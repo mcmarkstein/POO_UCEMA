{
 "cells": [
  {
   "cell_type": "code",
   "execution_count": 5,
   "outputs": [
    {
     "name": "stdout",
     "output_type": "stream",
     "text": [
      "03_00_0_teoria.ipynb                    03_03_Operations_in_Pandas.ipynb\r\n",
      "03_00_API.ipynb                         \u001B[34mdata\u001B[m\u001B[m\r\n",
      "03_00_csv.ipynb                         ejercicio1.ipynb\r\n",
      "03_01_Introducing_Pandas_Objects.ipynb  nueva.ipynb\r\n",
      "03_02_Data_Indexing_and_Selection.ipynb\r\n"
     ]
    }
   ],
   "source": [
    "!ls"
   ],
   "metadata": {
    "collapsed": false,
    "pycharm": {
     "name": "#%%\n"
    }
   }
  },
  {
   "cell_type": "code",
   "execution_count": 7,
   "outputs": [
    {
     "name": "stdout",
     "output_type": "stream",
     "text": [
      "alllines.txt       para_borrar.tsv    tarea_del_nene.csv\r\n",
      "countries.csv      prueba.csv         \u001B[34mventas_comercial\u001B[m\u001B[m\r\n"
     ]
    }
   ],
   "source": [
    "!ls data"
   ],
   "metadata": {
    "collapsed": false,
    "pycharm": {
     "name": "#%%\n"
    }
   }
  },
  {
   "cell_type": "markdown",
   "source": [
    "# Alllines"
   ],
   "metadata": {
    "collapsed": false,
    "pycharm": {
     "name": "#%% md\n"
    }
   }
  },
  {
   "cell_type": "code",
   "execution_count": 1,
   "metadata": {
    "collapsed": true,
    "pycharm": {
     "name": "#%%\n"
    }
   },
   "outputs": [],
   "source": [
    "path_file_alllines= \"data/alllines.txt\""
   ]
  },
  {
   "cell_type": "code",
   "execution_count": 2,
   "outputs": [],
   "source": [
    "import pandas as pd"
   ],
   "metadata": {
    "collapsed": false,
    "pycharm": {
     "name": "#%%\n"
    }
   }
  },
  {
   "cell_type": "code",
   "execution_count": 3,
   "outputs": [],
   "source": [
    "df1 = pd.read_csv(path_file_alllines, sep = \" \")"
   ],
   "metadata": {
    "collapsed": false,
    "pycharm": {
     "name": "#%%\n"
    }
   }
  },
  {
   "cell_type": "code",
   "execution_count": 7,
   "outputs": [
    {
     "data": {
      "text/plain": "                                                    ACT I\n0                            SCENE I. London. The palace.\n1       Enter KING HENRY, LORD JOHN OF LANCASTER, the ...\n2                  So shaken as we are, so wan with care,\n3              Find we a time for frighted peace to pant,\n4          And breathe short-winded accents of new broils\n...                                                   ...\n111390         Lead us from hence, where we may leisurely\n111391              Each one demand an answer to his part\n111392     Perform'd in this wide gap of time since first\n111393             We were dissever'd: hastily lead away.\n111394                                             Exeunt\n\n[111395 rows x 1 columns]",
      "text/html": "<div>\n<style scoped>\n    .dataframe tbody tr th:only-of-type {\n        vertical-align: middle;\n    }\n\n    .dataframe tbody tr th {\n        vertical-align: top;\n    }\n\n    .dataframe thead th {\n        text-align: right;\n    }\n</style>\n<table border=\"1\" class=\"dataframe\">\n  <thead>\n    <tr style=\"text-align: right;\">\n      <th></th>\n      <th>ACT I</th>\n    </tr>\n  </thead>\n  <tbody>\n    <tr>\n      <th>0</th>\n      <td>SCENE I. London. The palace.</td>\n    </tr>\n    <tr>\n      <th>1</th>\n      <td>Enter KING HENRY, LORD JOHN OF LANCASTER, the ...</td>\n    </tr>\n    <tr>\n      <th>2</th>\n      <td>So shaken as we are, so wan with care,</td>\n    </tr>\n    <tr>\n      <th>3</th>\n      <td>Find we a time for frighted peace to pant,</td>\n    </tr>\n    <tr>\n      <th>4</th>\n      <td>And breathe short-winded accents of new broils</td>\n    </tr>\n    <tr>\n      <th>...</th>\n      <td>...</td>\n    </tr>\n    <tr>\n      <th>111390</th>\n      <td>Lead us from hence, where we may leisurely</td>\n    </tr>\n    <tr>\n      <th>111391</th>\n      <td>Each one demand an answer to his part</td>\n    </tr>\n    <tr>\n      <th>111392</th>\n      <td>Perform'd in this wide gap of time since first</td>\n    </tr>\n    <tr>\n      <th>111393</th>\n      <td>We were dissever'd: hastily lead away.</td>\n    </tr>\n    <tr>\n      <th>111394</th>\n      <td>Exeunt</td>\n    </tr>\n  </tbody>\n</table>\n<p>111395 rows × 1 columns</p>\n</div>"
     },
     "execution_count": 7,
     "metadata": {},
     "output_type": "execute_result"
    }
   ],
   "source": [
    "df1"
   ],
   "metadata": {
    "collapsed": false,
    "pycharm": {
     "name": "#%%\n"
    }
   }
  },
  {
   "cell_type": "code",
   "execution_count": 5,
   "outputs": [
    {
     "name": "stdout",
     "output_type": "stream",
     "text": [
      "<class 'pandas.core.frame.DataFrame'>\n",
      "RangeIndex: 111395 entries, 0 to 111394\n",
      "Data columns (total 1 columns):\n",
      " #   Column  Non-Null Count   Dtype \n",
      "---  ------  --------------   ----- \n",
      " 0   ACT I   111395 non-null  object\n",
      "dtypes: object(1)\n",
      "memory usage: 870.4+ KB\n"
     ]
    }
   ],
   "source": [
    "df1.info()"
   ],
   "metadata": {
    "collapsed": false,
    "pycharm": {
     "name": "#%%\n"
    }
   }
  },
  {
   "cell_type": "code",
   "execution_count": 6,
   "outputs": [
    {
     "data": {
      "text/plain": "(111395, 1)"
     },
     "execution_count": 6,
     "metadata": {},
     "output_type": "execute_result"
    }
   ],
   "source": [
    "df1.shape"
   ],
   "metadata": {
    "collapsed": false,
    "pycharm": {
     "name": "#%%\n"
    }
   }
  },
  {
   "cell_type": "code",
   "execution_count": 28,
   "outputs": [
    {
     "data": {
      "text/plain": "         ACT I\ncount   111395\nunique  107580\ntop       Exit\nfreq       564",
      "text/html": "<div>\n<style scoped>\n    .dataframe tbody tr th:only-of-type {\n        vertical-align: middle;\n    }\n\n    .dataframe tbody tr th {\n        vertical-align: top;\n    }\n\n    .dataframe thead th {\n        text-align: right;\n    }\n</style>\n<table border=\"1\" class=\"dataframe\">\n  <thead>\n    <tr style=\"text-align: right;\">\n      <th></th>\n      <th>ACT I</th>\n    </tr>\n  </thead>\n  <tbody>\n    <tr>\n      <th>count</th>\n      <td>111395</td>\n    </tr>\n    <tr>\n      <th>unique</th>\n      <td>107580</td>\n    </tr>\n    <tr>\n      <th>top</th>\n      <td>Exit</td>\n    </tr>\n    <tr>\n      <th>freq</th>\n      <td>564</td>\n    </tr>\n  </tbody>\n</table>\n</div>"
     },
     "execution_count": 28,
     "metadata": {},
     "output_type": "execute_result"
    }
   ],
   "source": [
    "df1.describe()"
   ],
   "metadata": {
    "collapsed": false,
    "pycharm": {
     "name": "#%%\n"
    }
   }
  },
  {
   "cell_type": "code",
   "execution_count": 29,
   "outputs": [
    {
     "data": {
      "text/plain": "Index(['ACT I'], dtype='object')"
     },
     "execution_count": 29,
     "metadata": {},
     "output_type": "execute_result"
    }
   ],
   "source": [
    "df1.columns"
   ],
   "metadata": {
    "collapsed": false,
    "pycharm": {
     "name": "#%%\n"
    }
   }
  },
  {
   "cell_type": "markdown",
   "source": [
    "# para_borrar.tsv"
   ],
   "metadata": {
    "collapsed": false,
    "pycharm": {
     "name": "#%% md\n"
    }
   }
  },
  {
   "cell_type": "code",
   "execution_count": 8,
   "outputs": [],
   "source": [
    "path_file_para_borrar = \"data/para_borrar.tsv\""
   ],
   "metadata": {
    "collapsed": false,
    "pycharm": {
     "name": "#%%\n"
    }
   }
  },
  {
   "cell_type": "code",
   "execution_count": 9,
   "outputs": [],
   "source": [
    "df2 = pd.read_csv(path_file_para_borrar, sep='\\t')"
   ],
   "metadata": {
    "collapsed": false,
    "pycharm": {
     "name": "#%%\n"
    }
   }
  },
  {
   "cell_type": "code",
   "execution_count": 10,
   "outputs": [
    {
     "data": {
      "text/plain": "      Fecha de respuesta     id Edad  Customer Value  \\\n0          6/30/19 23:09      1   43             1.0   \n1          6/30/19 22:56      2   75             1.0   \n2          6/30/19 22:52      3   23             1.0   \n3          6/30/19 22:33      4   71             2.0   \n4          6/30/19 22:25      5   64             2.0   \n...                  ...    ...  ...             ...   \n35821        1/1/19 8:48  32233   63             2.0   \n35822        1/1/19 3:40  32234   35             2.0   \n35823        1/1/19 2:04  32235   41             2.0   \n35824        1/1/19 1:07  32236   66             1.0   \n35825        1/1/19 0:47  32237   54             1.0   \n\n       Probabilidad de Recomendación  \\\n0                               10.0   \n1                               10.0   \n2                               10.0   \n3                               10.0   \n4                                9.0   \n...                              ...   \n35821                           10.0   \n35822                            4.0   \n35823                           10.0   \n35824                           10.0   \n35825                            7.0   \n\n                                               ¿Por que?  \\\n0                         buen servicio y buena atención   \n1                        Eficiencia, amabilidad, rapidez   \n2                                         Todo excelente   \n3      Vienen enseguida y siempre me solucionan el pr...   \n4      Cumplió de acuerdo a mis expectativas, horario...   \n...                                                  ...   \n35821                                      buen servicio   \n35822  La falta de compromiso de parte del seguro por...   \n35823      Buena atención y rápida solución de problemas   \n35824     Persona muy eficiente,responsable y educado. ,   \n35825                            Es correcto el servicio   \n\n      Date of 1st Feedback Call Resultado del Primer contacto  \\\n0                           NaN                           NaN   \n1                           NaN                           NaN   \n2                           NaN                           NaN   \n3                           NaN                           NaN   \n4                           NaN                           NaN   \n...                         ...                           ...   \n35821                       NaN                           NaN   \n35822                02/01/2018                 No contactado   \n35823                       NaN                           NaN   \n35824                       NaN                           NaN   \n35825                       NaN                           NaN   \n\n                      Descripción detallada del contacto  \\\n0                                                    NaN   \n1                                                    NaN   \n2                                                    NaN   \n3                                                    NaN   \n4                                                    NaN   \n...                                                  ...   \n35821                                                NaN   \n35822  no es posible establecer contacto con la titul...   \n35823                                                NaN   \n35824                                                NaN   \n35825                                                NaN   \n\n      Fuiste capaz de resolver el inconveniente?  \\\n0                                            NaN   \n1                                            NaN   \n2                                            NaN   \n3                                            NaN   \n4                                            NaN   \n...                                          ...   \n35821                                        NaN   \n35822                                         No   \n35823                                        NaN   \n35824                                        NaN   \n35825                                        NaN   \n\n      El cliente se encontró satisfecho con el resultado?  \n0                                                    NaN   \n1                                                    NaN   \n2                                                    NaN   \n3                                                    NaN   \n4                                                    NaN   \n...                                                  ...   \n35821                                                NaN   \n35822                                                 No   \n35823                                                NaN   \n35824                                                NaN   \n35825                                                NaN   \n\n[35826 rows x 11 columns]",
      "text/html": "<div>\n<style scoped>\n    .dataframe tbody tr th:only-of-type {\n        vertical-align: middle;\n    }\n\n    .dataframe tbody tr th {\n        vertical-align: top;\n    }\n\n    .dataframe thead th {\n        text-align: right;\n    }\n</style>\n<table border=\"1\" class=\"dataframe\">\n  <thead>\n    <tr style=\"text-align: right;\">\n      <th></th>\n      <th>Fecha de respuesta</th>\n      <th>id</th>\n      <th>Edad</th>\n      <th>Customer Value</th>\n      <th>Probabilidad de Recomendación</th>\n      <th>¿Por que?</th>\n      <th>Date of 1st Feedback Call</th>\n      <th>Resultado del Primer contacto</th>\n      <th>Descripción detallada del contacto</th>\n      <th>Fuiste capaz de resolver el inconveniente?</th>\n      <th>El cliente se encontró satisfecho con el resultado?</th>\n    </tr>\n  </thead>\n  <tbody>\n    <tr>\n      <th>0</th>\n      <td>6/30/19 23:09</td>\n      <td>1</td>\n      <td>43</td>\n      <td>1.0</td>\n      <td>10.0</td>\n      <td>buen servicio y buena atención</td>\n      <td>NaN</td>\n      <td>NaN</td>\n      <td>NaN</td>\n      <td>NaN</td>\n      <td>NaN</td>\n    </tr>\n    <tr>\n      <th>1</th>\n      <td>6/30/19 22:56</td>\n      <td>2</td>\n      <td>75</td>\n      <td>1.0</td>\n      <td>10.0</td>\n      <td>Eficiencia, amabilidad, rapidez</td>\n      <td>NaN</td>\n      <td>NaN</td>\n      <td>NaN</td>\n      <td>NaN</td>\n      <td>NaN</td>\n    </tr>\n    <tr>\n      <th>2</th>\n      <td>6/30/19 22:52</td>\n      <td>3</td>\n      <td>23</td>\n      <td>1.0</td>\n      <td>10.0</td>\n      <td>Todo excelente</td>\n      <td>NaN</td>\n      <td>NaN</td>\n      <td>NaN</td>\n      <td>NaN</td>\n      <td>NaN</td>\n    </tr>\n    <tr>\n      <th>3</th>\n      <td>6/30/19 22:33</td>\n      <td>4</td>\n      <td>71</td>\n      <td>2.0</td>\n      <td>10.0</td>\n      <td>Vienen enseguida y siempre me solucionan el pr...</td>\n      <td>NaN</td>\n      <td>NaN</td>\n      <td>NaN</td>\n      <td>NaN</td>\n      <td>NaN</td>\n    </tr>\n    <tr>\n      <th>4</th>\n      <td>6/30/19 22:25</td>\n      <td>5</td>\n      <td>64</td>\n      <td>2.0</td>\n      <td>9.0</td>\n      <td>Cumplió de acuerdo a mis expectativas, horario...</td>\n      <td>NaN</td>\n      <td>NaN</td>\n      <td>NaN</td>\n      <td>NaN</td>\n      <td>NaN</td>\n    </tr>\n    <tr>\n      <th>...</th>\n      <td>...</td>\n      <td>...</td>\n      <td>...</td>\n      <td>...</td>\n      <td>...</td>\n      <td>...</td>\n      <td>...</td>\n      <td>...</td>\n      <td>...</td>\n      <td>...</td>\n      <td>...</td>\n    </tr>\n    <tr>\n      <th>35821</th>\n      <td>1/1/19 8:48</td>\n      <td>32233</td>\n      <td>63</td>\n      <td>2.0</td>\n      <td>10.0</td>\n      <td>buen servicio</td>\n      <td>NaN</td>\n      <td>NaN</td>\n      <td>NaN</td>\n      <td>NaN</td>\n      <td>NaN</td>\n    </tr>\n    <tr>\n      <th>35822</th>\n      <td>1/1/19 3:40</td>\n      <td>32234</td>\n      <td>35</td>\n      <td>2.0</td>\n      <td>4.0</td>\n      <td>La falta de compromiso de parte del seguro por...</td>\n      <td>02/01/2018</td>\n      <td>No contactado</td>\n      <td>no es posible establecer contacto con la titul...</td>\n      <td>No</td>\n      <td>No</td>\n    </tr>\n    <tr>\n      <th>35823</th>\n      <td>1/1/19 2:04</td>\n      <td>32235</td>\n      <td>41</td>\n      <td>2.0</td>\n      <td>10.0</td>\n      <td>Buena atención y rápida solución de problemas</td>\n      <td>NaN</td>\n      <td>NaN</td>\n      <td>NaN</td>\n      <td>NaN</td>\n      <td>NaN</td>\n    </tr>\n    <tr>\n      <th>35824</th>\n      <td>1/1/19 1:07</td>\n      <td>32236</td>\n      <td>66</td>\n      <td>1.0</td>\n      <td>10.0</td>\n      <td>Persona muy eficiente,responsable y educado. ,</td>\n      <td>NaN</td>\n      <td>NaN</td>\n      <td>NaN</td>\n      <td>NaN</td>\n      <td>NaN</td>\n    </tr>\n    <tr>\n      <th>35825</th>\n      <td>1/1/19 0:47</td>\n      <td>32237</td>\n      <td>54</td>\n      <td>1.0</td>\n      <td>7.0</td>\n      <td>Es correcto el servicio</td>\n      <td>NaN</td>\n      <td>NaN</td>\n      <td>NaN</td>\n      <td>NaN</td>\n      <td>NaN</td>\n    </tr>\n  </tbody>\n</table>\n<p>35826 rows × 11 columns</p>\n</div>"
     },
     "execution_count": 10,
     "metadata": {},
     "output_type": "execute_result"
    }
   ],
   "source": [
    "df2"
   ],
   "metadata": {
    "collapsed": false,
    "pycharm": {
     "name": "#%%\n"
    }
   }
  },
  {
   "cell_type": "code",
   "execution_count": 23,
   "outputs": [],
   "source": [
    "edad_bien = df2[df2['Edad'].notnull()]"
   ],
   "metadata": {
    "collapsed": false,
    "pycharm": {
     "name": "#%%\n"
    }
   }
  },
  {
   "cell_type": "code",
   "execution_count": 26,
   "outputs": [
    {
     "data": {
      "text/plain": "array(['43', '75', '23', '71', '64', '56', '33', '46', '49', '50', '40',\n       '59', '62', '30', '52', '26', '66', '58', '53', '54', 'Sí', '67',\n       '63', '34', 'No', '44', '24', '70', '42', '48', '37', '32', '69',\n       '65', '61', '35', '25', '76', '73', '27', '39', '45', '57', '55',\n       '47', '41', '119', '60', '51', '36', '38', '31', '77', '74', '72',\n       '79', '22', '28', '84', '29', '80', '85', '68', '87', '108', '20',\n       '19', '21', '78', '82', '90', '81', '88', '18', '83', '0', '93',\n       '86', '4', '91', '94', '3', '89', '100', '107', '6', '99', '1',\n       '5', '95', '7', '16', '118'], dtype=object)"
     },
     "execution_count": 26,
     "metadata": {},
     "output_type": "execute_result"
    }
   ],
   "source": [
    "edad_bien.Edad.unique()"
   ],
   "metadata": {
    "collapsed": false,
    "pycharm": {
     "name": "#%%\n"
    }
   }
  },
  {
   "cell_type": "code",
   "execution_count": 45,
   "outputs": [
    {
     "data": {
      "text/plain": "(35826, 11)"
     },
     "execution_count": 45,
     "metadata": {},
     "output_type": "execute_result"
    }
   ],
   "source": [
    "df2.shape"
   ],
   "metadata": {
    "collapsed": false,
    "pycharm": {
     "name": "#%%\n"
    }
   }
  },
  {
   "cell_type": "code",
   "execution_count": 37,
   "outputs": [
    {
     "name": "stdout",
     "output_type": "stream",
     "text": [
      "<class 'pandas.core.frame.DataFrame'>\n",
      "RangeIndex: 35826 entries, 0 to 35825\n",
      "Data columns (total 11 columns):\n",
      " #   Column                                               Non-Null Count  Dtype  \n",
      "---  ------                                               --------------  -----  \n",
      " 0   Fecha de respuesta                                   35693 non-null  object \n",
      " 1   id                                                   35213 non-null  object \n",
      " 2   Edad                                                 35015 non-null  object \n",
      " 3   Customer Value                                       34572 non-null  float64\n",
      " 4   Probabilidad de Recomendación                        34572 non-null  float64\n",
      " 5   ¿Por que?                                            34572 non-null  object \n",
      " 6   Date of 1st Feedback Call                            4333 non-null   object \n",
      " 7   Resultado del Primer contacto                        4367 non-null   object \n",
      " 8   Descripción detallada del contacto                   3208 non-null   object \n",
      " 9   Fuiste capaz de resolver el inconveniente?           2517 non-null   object \n",
      " 10  El cliente se encontró satisfecho con el resultado?  2503 non-null   object \n",
      "dtypes: float64(2), object(9)\n",
      "memory usage: 3.0+ MB\n"
     ]
    }
   ],
   "source": [
    "df2.info()"
   ],
   "metadata": {
    "collapsed": false,
    "pycharm": {
     "name": "#%%\n"
    }
   }
  },
  {
   "cell_type": "code",
   "execution_count": 38,
   "outputs": [
    {
     "data": {
      "text/plain": "Index(['Fecha de respuesta', 'id', 'Edad', 'Customer Value',\n       'Probabilidad de Recomendación', '¿Por que?',\n       'Date of 1st Feedback Call', 'Resultado del Primer contacto',\n       'Descripción detallada del contacto',\n       'Fuiste capaz de resolver el inconveniente?',\n       'El cliente se encontró satisfecho con el resultado?'],\n      dtype='object')"
     },
     "execution_count": 38,
     "metadata": {},
     "output_type": "execute_result"
    }
   ],
   "source": [
    "df2.columns"
   ],
   "metadata": {
    "collapsed": false,
    "pycharm": {
     "name": "#%%\n"
    }
   }
  },
  {
   "cell_type": "code",
   "execution_count": 39,
   "outputs": [
    {
     "data": {
      "text/plain": "       Customer Value  Probabilidad de Recomendación\ncount    34572.000000                   34572.000000\nmean         1.669154                       8.343168\nstd          0.500839                       2.476786\nmin          1.000000                       0.000000\n25%          1.000000                       8.000000\n50%          2.000000                       9.000000\n75%          2.000000                      10.000000\nmax          3.000000                      10.000000",
      "text/html": "<div>\n<style scoped>\n    .dataframe tbody tr th:only-of-type {\n        vertical-align: middle;\n    }\n\n    .dataframe tbody tr th {\n        vertical-align: top;\n    }\n\n    .dataframe thead th {\n        text-align: right;\n    }\n</style>\n<table border=\"1\" class=\"dataframe\">\n  <thead>\n    <tr style=\"text-align: right;\">\n      <th></th>\n      <th>Customer Value</th>\n      <th>Probabilidad de Recomendación</th>\n    </tr>\n  </thead>\n  <tbody>\n    <tr>\n      <th>count</th>\n      <td>34572.000000</td>\n      <td>34572.000000</td>\n    </tr>\n    <tr>\n      <th>mean</th>\n      <td>1.669154</td>\n      <td>8.343168</td>\n    </tr>\n    <tr>\n      <th>std</th>\n      <td>0.500839</td>\n      <td>2.476786</td>\n    </tr>\n    <tr>\n      <th>min</th>\n      <td>1.000000</td>\n      <td>0.000000</td>\n    </tr>\n    <tr>\n      <th>25%</th>\n      <td>1.000000</td>\n      <td>8.000000</td>\n    </tr>\n    <tr>\n      <th>50%</th>\n      <td>2.000000</td>\n      <td>9.000000</td>\n    </tr>\n    <tr>\n      <th>75%</th>\n      <td>2.000000</td>\n      <td>10.000000</td>\n    </tr>\n    <tr>\n      <th>max</th>\n      <td>3.000000</td>\n      <td>10.000000</td>\n    </tr>\n  </tbody>\n</table>\n</div>"
     },
     "execution_count": 39,
     "metadata": {},
     "output_type": "execute_result"
    }
   ],
   "source": [
    "df2.describe()"
   ],
   "metadata": {
    "collapsed": false,
    "pycharm": {
     "name": "#%%\n"
    }
   }
  },
  {
   "cell_type": "code",
   "execution_count": 12,
   "outputs": [
    {
     "data": {
      "text/plain": "Fecha de respuesta                                       133\nid                                                       613\nEdad                                                     811\nCustomer Value                                          1254\nProbabilidad de Recomendación                           1254\n¿Por que?                                               1254\nDate of 1st Feedback Call                              31493\nResultado del Primer contacto                          31459\nDescripción detallada del contacto                     32618\nFuiste capaz de resolver el inconveniente?             33309\nEl cliente se encontró satisfecho con el resultado?    33323\ndtype: int64"
     },
     "execution_count": 12,
     "metadata": {},
     "output_type": "execute_result"
    }
   ],
   "source": [
    "df2.isnull().sum()"
   ],
   "metadata": {
    "collapsed": false,
    "pycharm": {
     "name": "#%%\n"
    }
   }
  },
  {
   "cell_type": "code",
   "execution_count": 13,
   "outputs": [
    {
     "ename": "TypeError",
     "evalue": "'>=' not supported between instances of 'str' and 'float'",
     "output_type": "error",
     "traceback": [
      "\u001B[0;31m---------------------------------------------------------------------------\u001B[0m",
      "\u001B[0;31mTypeError\u001B[0m                                 Traceback (most recent call last)",
      "Input \u001B[0;32mIn [13]\u001B[0m, in \u001B[0;36m<cell line: 1>\u001B[0;34m()\u001B[0m\n\u001B[0;32m----> 1\u001B[0m \u001B[43mdf2\u001B[49m\u001B[38;5;241;43m.\u001B[39;49m\u001B[43mEdad\u001B[49m\u001B[38;5;241;43m.\u001B[39;49m\u001B[43mmax\u001B[49m\u001B[43m(\u001B[49m\u001B[43m)\u001B[49m\n",
      "File \u001B[0;32m~/opt/anaconda3/lib/python3.9/site-packages/pandas/core/generic.py:10819\u001B[0m, in \u001B[0;36mNDFrame._add_numeric_operations.<locals>.max\u001B[0;34m(self, axis, skipna, level, numeric_only, **kwargs)\u001B[0m\n\u001B[1;32m  10806\u001B[0m \u001B[38;5;129m@doc\u001B[39m(\n\u001B[1;32m  10807\u001B[0m     _num_doc,\n\u001B[1;32m  10808\u001B[0m     desc\u001B[38;5;241m=\u001B[39m\u001B[38;5;124m\"\u001B[39m\u001B[38;5;124mReturn the maximum of the values over the requested axis.\u001B[39m\u001B[38;5;130;01m\\n\u001B[39;00m\u001B[38;5;130;01m\\n\u001B[39;00m\u001B[38;5;124m\"\u001B[39m\n\u001B[0;32m   (...)\u001B[0m\n\u001B[1;32m  10817\u001B[0m )\n\u001B[1;32m  10818\u001B[0m \u001B[38;5;28;01mdef\u001B[39;00m \u001B[38;5;21mmax\u001B[39m(\u001B[38;5;28mself\u001B[39m, axis\u001B[38;5;241m=\u001B[39m\u001B[38;5;28;01mNone\u001B[39;00m, skipna\u001B[38;5;241m=\u001B[39m\u001B[38;5;28;01mNone\u001B[39;00m, level\u001B[38;5;241m=\u001B[39m\u001B[38;5;28;01mNone\u001B[39;00m, numeric_only\u001B[38;5;241m=\u001B[39m\u001B[38;5;28;01mNone\u001B[39;00m, \u001B[38;5;241m*\u001B[39m\u001B[38;5;241m*\u001B[39mkwargs):\n\u001B[0;32m> 10819\u001B[0m     \u001B[38;5;28;01mreturn\u001B[39;00m \u001B[43mNDFrame\u001B[49m\u001B[38;5;241;43m.\u001B[39;49m\u001B[43mmax\u001B[49m\u001B[43m(\u001B[49m\u001B[38;5;28;43mself\u001B[39;49m\u001B[43m,\u001B[49m\u001B[43m \u001B[49m\u001B[43maxis\u001B[49m\u001B[43m,\u001B[49m\u001B[43m \u001B[49m\u001B[43mskipna\u001B[49m\u001B[43m,\u001B[49m\u001B[43m \u001B[49m\u001B[43mlevel\u001B[49m\u001B[43m,\u001B[49m\u001B[43m \u001B[49m\u001B[43mnumeric_only\u001B[49m\u001B[43m,\u001B[49m\u001B[43m \u001B[49m\u001B[38;5;241;43m*\u001B[39;49m\u001B[38;5;241;43m*\u001B[39;49m\u001B[43mkwargs\u001B[49m\u001B[43m)\u001B[49m\n",
      "File \u001B[0;32m~/opt/anaconda3/lib/python3.9/site-packages/pandas/core/generic.py:10364\u001B[0m, in \u001B[0;36mNDFrame.max\u001B[0;34m(self, axis, skipna, level, numeric_only, **kwargs)\u001B[0m\n\u001B[1;32m  10363\u001B[0m \u001B[38;5;28;01mdef\u001B[39;00m \u001B[38;5;21mmax\u001B[39m(\u001B[38;5;28mself\u001B[39m, axis\u001B[38;5;241m=\u001B[39m\u001B[38;5;28;01mNone\u001B[39;00m, skipna\u001B[38;5;241m=\u001B[39m\u001B[38;5;28;01mNone\u001B[39;00m, level\u001B[38;5;241m=\u001B[39m\u001B[38;5;28;01mNone\u001B[39;00m, numeric_only\u001B[38;5;241m=\u001B[39m\u001B[38;5;28;01mNone\u001B[39;00m, \u001B[38;5;241m*\u001B[39m\u001B[38;5;241m*\u001B[39mkwargs):\n\u001B[0;32m> 10364\u001B[0m     \u001B[38;5;28;01mreturn\u001B[39;00m \u001B[38;5;28;43mself\u001B[39;49m\u001B[38;5;241;43m.\u001B[39;49m\u001B[43m_stat_function\u001B[49m\u001B[43m(\u001B[49m\n\u001B[1;32m  10365\u001B[0m \u001B[43m        \u001B[49m\u001B[38;5;124;43m\"\u001B[39;49m\u001B[38;5;124;43mmax\u001B[39;49m\u001B[38;5;124;43m\"\u001B[39;49m\u001B[43m,\u001B[49m\u001B[43m \u001B[49m\u001B[43mnanops\u001B[49m\u001B[38;5;241;43m.\u001B[39;49m\u001B[43mnanmax\u001B[49m\u001B[43m,\u001B[49m\u001B[43m \u001B[49m\u001B[43maxis\u001B[49m\u001B[43m,\u001B[49m\u001B[43m \u001B[49m\u001B[43mskipna\u001B[49m\u001B[43m,\u001B[49m\u001B[43m \u001B[49m\u001B[43mlevel\u001B[49m\u001B[43m,\u001B[49m\u001B[43m \u001B[49m\u001B[43mnumeric_only\u001B[49m\u001B[43m,\u001B[49m\u001B[43m \u001B[49m\u001B[38;5;241;43m*\u001B[39;49m\u001B[38;5;241;43m*\u001B[39;49m\u001B[43mkwargs\u001B[49m\n\u001B[1;32m  10366\u001B[0m \u001B[43m    \u001B[49m\u001B[43m)\u001B[49m\n",
      "File \u001B[0;32m~/opt/anaconda3/lib/python3.9/site-packages/pandas/core/generic.py:10354\u001B[0m, in \u001B[0;36mNDFrame._stat_function\u001B[0;34m(self, name, func, axis, skipna, level, numeric_only, **kwargs)\u001B[0m\n\u001B[1;32m  10344\u001B[0m     warnings\u001B[38;5;241m.\u001B[39mwarn(\n\u001B[1;32m  10345\u001B[0m         \u001B[38;5;124m\"\u001B[39m\u001B[38;5;124mUsing the level keyword in DataFrame and Series aggregations is \u001B[39m\u001B[38;5;124m\"\u001B[39m\n\u001B[1;32m  10346\u001B[0m         \u001B[38;5;124m\"\u001B[39m\u001B[38;5;124mdeprecated and will be removed in a future version. Use groupby \u001B[39m\u001B[38;5;124m\"\u001B[39m\n\u001B[0;32m   (...)\u001B[0m\n\u001B[1;32m  10349\u001B[0m         stacklevel\u001B[38;5;241m=\u001B[39m\u001B[38;5;241m4\u001B[39m,\n\u001B[1;32m  10350\u001B[0m     )\n\u001B[1;32m  10351\u001B[0m     \u001B[38;5;28;01mreturn\u001B[39;00m \u001B[38;5;28mself\u001B[39m\u001B[38;5;241m.\u001B[39m_agg_by_level(\n\u001B[1;32m  10352\u001B[0m         name, axis\u001B[38;5;241m=\u001B[39maxis, level\u001B[38;5;241m=\u001B[39mlevel, skipna\u001B[38;5;241m=\u001B[39mskipna, numeric_only\u001B[38;5;241m=\u001B[39mnumeric_only\n\u001B[1;32m  10353\u001B[0m     )\n\u001B[0;32m> 10354\u001B[0m \u001B[38;5;28;01mreturn\u001B[39;00m \u001B[38;5;28;43mself\u001B[39;49m\u001B[38;5;241;43m.\u001B[39;49m\u001B[43m_reduce\u001B[49m\u001B[43m(\u001B[49m\n\u001B[1;32m  10355\u001B[0m \u001B[43m    \u001B[49m\u001B[43mfunc\u001B[49m\u001B[43m,\u001B[49m\u001B[43m \u001B[49m\u001B[43mname\u001B[49m\u001B[38;5;241;43m=\u001B[39;49m\u001B[43mname\u001B[49m\u001B[43m,\u001B[49m\u001B[43m \u001B[49m\u001B[43maxis\u001B[49m\u001B[38;5;241;43m=\u001B[39;49m\u001B[43maxis\u001B[49m\u001B[43m,\u001B[49m\u001B[43m \u001B[49m\u001B[43mskipna\u001B[49m\u001B[38;5;241;43m=\u001B[39;49m\u001B[43mskipna\u001B[49m\u001B[43m,\u001B[49m\u001B[43m \u001B[49m\u001B[43mnumeric_only\u001B[49m\u001B[38;5;241;43m=\u001B[39;49m\u001B[43mnumeric_only\u001B[49m\n\u001B[1;32m  10356\u001B[0m \u001B[43m\u001B[49m\u001B[43m)\u001B[49m\n",
      "File \u001B[0;32m~/opt/anaconda3/lib/python3.9/site-packages/pandas/core/series.py:4392\u001B[0m, in \u001B[0;36mSeries._reduce\u001B[0;34m(self, op, name, axis, skipna, numeric_only, filter_type, **kwds)\u001B[0m\n\u001B[1;32m   4388\u001B[0m     \u001B[38;5;28;01mraise\u001B[39;00m \u001B[38;5;167;01mNotImplementedError\u001B[39;00m(\n\u001B[1;32m   4389\u001B[0m         \u001B[38;5;124mf\u001B[39m\u001B[38;5;124m\"\u001B[39m\u001B[38;5;124mSeries.\u001B[39m\u001B[38;5;132;01m{\u001B[39;00mname\u001B[38;5;132;01m}\u001B[39;00m\u001B[38;5;124m does not implement numeric_only.\u001B[39m\u001B[38;5;124m\"\u001B[39m\n\u001B[1;32m   4390\u001B[0m     )\n\u001B[1;32m   4391\u001B[0m \u001B[38;5;28;01mwith\u001B[39;00m np\u001B[38;5;241m.\u001B[39merrstate(\u001B[38;5;28mall\u001B[39m\u001B[38;5;241m=\u001B[39m\u001B[38;5;124m\"\u001B[39m\u001B[38;5;124mignore\u001B[39m\u001B[38;5;124m\"\u001B[39m):\n\u001B[0;32m-> 4392\u001B[0m     \u001B[38;5;28;01mreturn\u001B[39;00m \u001B[43mop\u001B[49m\u001B[43m(\u001B[49m\u001B[43mdelegate\u001B[49m\u001B[43m,\u001B[49m\u001B[43m \u001B[49m\u001B[43mskipna\u001B[49m\u001B[38;5;241;43m=\u001B[39;49m\u001B[43mskipna\u001B[49m\u001B[43m,\u001B[49m\u001B[43m \u001B[49m\u001B[38;5;241;43m*\u001B[39;49m\u001B[38;5;241;43m*\u001B[39;49m\u001B[43mkwds\u001B[49m\u001B[43m)\u001B[49m\n",
      "File \u001B[0;32m~/opt/anaconda3/lib/python3.9/site-packages/pandas/core/nanops.py:155\u001B[0m, in \u001B[0;36mbottleneck_switch.__call__.<locals>.f\u001B[0;34m(values, axis, skipna, **kwds)\u001B[0m\n\u001B[1;32m    153\u001B[0m         result \u001B[38;5;241m=\u001B[39m alt(values, axis\u001B[38;5;241m=\u001B[39maxis, skipna\u001B[38;5;241m=\u001B[39mskipna, \u001B[38;5;241m*\u001B[39m\u001B[38;5;241m*\u001B[39mkwds)\n\u001B[1;32m    154\u001B[0m \u001B[38;5;28;01melse\u001B[39;00m:\n\u001B[0;32m--> 155\u001B[0m     result \u001B[38;5;241m=\u001B[39m \u001B[43malt\u001B[49m\u001B[43m(\u001B[49m\u001B[43mvalues\u001B[49m\u001B[43m,\u001B[49m\u001B[43m \u001B[49m\u001B[43maxis\u001B[49m\u001B[38;5;241;43m=\u001B[39;49m\u001B[43maxis\u001B[49m\u001B[43m,\u001B[49m\u001B[43m \u001B[49m\u001B[43mskipna\u001B[49m\u001B[38;5;241;43m=\u001B[39;49m\u001B[43mskipna\u001B[49m\u001B[43m,\u001B[49m\u001B[43m \u001B[49m\u001B[38;5;241;43m*\u001B[39;49m\u001B[38;5;241;43m*\u001B[39;49m\u001B[43mkwds\u001B[49m\u001B[43m)\u001B[49m\n\u001B[1;32m    157\u001B[0m \u001B[38;5;28;01mreturn\u001B[39;00m result\n",
      "File \u001B[0;32m~/opt/anaconda3/lib/python3.9/site-packages/pandas/core/nanops.py:410\u001B[0m, in \u001B[0;36m_datetimelike_compat.<locals>.new_func\u001B[0;34m(values, axis, skipna, mask, **kwargs)\u001B[0m\n\u001B[1;32m    407\u001B[0m \u001B[38;5;28;01mif\u001B[39;00m datetimelike \u001B[38;5;129;01mand\u001B[39;00m mask \u001B[38;5;129;01mis\u001B[39;00m \u001B[38;5;28;01mNone\u001B[39;00m:\n\u001B[1;32m    408\u001B[0m     mask \u001B[38;5;241m=\u001B[39m isna(values)\n\u001B[0;32m--> 410\u001B[0m result \u001B[38;5;241m=\u001B[39m \u001B[43mfunc\u001B[49m\u001B[43m(\u001B[49m\u001B[43mvalues\u001B[49m\u001B[43m,\u001B[49m\u001B[43m \u001B[49m\u001B[43maxis\u001B[49m\u001B[38;5;241;43m=\u001B[39;49m\u001B[43maxis\u001B[49m\u001B[43m,\u001B[49m\u001B[43m \u001B[49m\u001B[43mskipna\u001B[49m\u001B[38;5;241;43m=\u001B[39;49m\u001B[43mskipna\u001B[49m\u001B[43m,\u001B[49m\u001B[43m \u001B[49m\u001B[43mmask\u001B[49m\u001B[38;5;241;43m=\u001B[39;49m\u001B[43mmask\u001B[49m\u001B[43m,\u001B[49m\u001B[43m \u001B[49m\u001B[38;5;241;43m*\u001B[39;49m\u001B[38;5;241;43m*\u001B[39;49m\u001B[43mkwargs\u001B[49m\u001B[43m)\u001B[49m\n\u001B[1;32m    412\u001B[0m \u001B[38;5;28;01mif\u001B[39;00m datetimelike:\n\u001B[1;32m    413\u001B[0m     result \u001B[38;5;241m=\u001B[39m _wrap_results(result, orig_values\u001B[38;5;241m.\u001B[39mdtype, fill_value\u001B[38;5;241m=\u001B[39miNaT)\n",
      "File \u001B[0;32m~/opt/anaconda3/lib/python3.9/site-packages/pandas/core/nanops.py:1017\u001B[0m, in \u001B[0;36m_nanminmax.<locals>.reduction\u001B[0;34m(values, axis, skipna, mask)\u001B[0m\n\u001B[1;32m   1015\u001B[0m         result \u001B[38;5;241m=\u001B[39m np\u001B[38;5;241m.\u001B[39mnan\n\u001B[1;32m   1016\u001B[0m \u001B[38;5;28;01melse\u001B[39;00m:\n\u001B[0;32m-> 1017\u001B[0m     result \u001B[38;5;241m=\u001B[39m \u001B[38;5;28;43mgetattr\u001B[39;49m\u001B[43m(\u001B[49m\u001B[43mvalues\u001B[49m\u001B[43m,\u001B[49m\u001B[43m \u001B[49m\u001B[43mmeth\u001B[49m\u001B[43m)\u001B[49m\u001B[43m(\u001B[49m\u001B[43maxis\u001B[49m\u001B[43m)\u001B[49m\n\u001B[1;32m   1019\u001B[0m result \u001B[38;5;241m=\u001B[39m _maybe_null_out(result, axis, mask, values\u001B[38;5;241m.\u001B[39mshape)\n\u001B[1;32m   1020\u001B[0m \u001B[38;5;28;01mreturn\u001B[39;00m result\n",
      "File \u001B[0;32m~/opt/anaconda3/lib/python3.9/site-packages/numpy/core/_methods.py:40\u001B[0m, in \u001B[0;36m_amax\u001B[0;34m(a, axis, out, keepdims, initial, where)\u001B[0m\n\u001B[1;32m     38\u001B[0m \u001B[38;5;28;01mdef\u001B[39;00m \u001B[38;5;21m_amax\u001B[39m(a, axis\u001B[38;5;241m=\u001B[39m\u001B[38;5;28;01mNone\u001B[39;00m, out\u001B[38;5;241m=\u001B[39m\u001B[38;5;28;01mNone\u001B[39;00m, keepdims\u001B[38;5;241m=\u001B[39m\u001B[38;5;28;01mFalse\u001B[39;00m,\n\u001B[1;32m     39\u001B[0m           initial\u001B[38;5;241m=\u001B[39m_NoValue, where\u001B[38;5;241m=\u001B[39m\u001B[38;5;28;01mTrue\u001B[39;00m):\n\u001B[0;32m---> 40\u001B[0m     \u001B[38;5;28;01mreturn\u001B[39;00m \u001B[43mumr_maximum\u001B[49m\u001B[43m(\u001B[49m\u001B[43ma\u001B[49m\u001B[43m,\u001B[49m\u001B[43m \u001B[49m\u001B[43maxis\u001B[49m\u001B[43m,\u001B[49m\u001B[43m \u001B[49m\u001B[38;5;28;43;01mNone\u001B[39;49;00m\u001B[43m,\u001B[49m\u001B[43m \u001B[49m\u001B[43mout\u001B[49m\u001B[43m,\u001B[49m\u001B[43m \u001B[49m\u001B[43mkeepdims\u001B[49m\u001B[43m,\u001B[49m\u001B[43m \u001B[49m\u001B[43minitial\u001B[49m\u001B[43m,\u001B[49m\u001B[43m \u001B[49m\u001B[43mwhere\u001B[49m\u001B[43m)\u001B[49m\n",
      "\u001B[0;31mTypeError\u001B[0m: '>=' not supported between instances of 'str' and 'float'"
     ]
    }
   ],
   "source": [
    "df2."
   ],
   "metadata": {
    "collapsed": false,
    "pycharm": {
     "name": "#%%\n"
    }
   }
  },
  {
   "cell_type": "markdown",
   "source": [
    "# Tarea del nene"
   ],
   "metadata": {
    "collapsed": false,
    "pycharm": {
     "name": "#%% md\n"
    }
   }
  },
  {
   "cell_type": "code",
   "execution_count": 29,
   "outputs": [],
   "source": [
    "path_file_tarea= \"data/tarea_del_nene.csv\""
   ],
   "metadata": {
    "collapsed": false,
    "pycharm": {
     "name": "#%%\n"
    }
   }
  },
  {
   "cell_type": "code",
   "execution_count": 30,
   "outputs": [],
   "source": [
    "df3 = pd.read_csv(path_file_tarea)"
   ],
   "metadata": {
    "collapsed": false,
    "pycharm": {
     "name": "#%%\n"
    }
   }
  },
  {
   "cell_type": "code",
   "execution_count": 31,
   "outputs": [
    {
     "data": {
      "text/plain": "     Rank               Title                           Website  Employees  \\\n0       1             Walmart            http://www.walmart.com    2300000   \n1       2  Berkshire Hathaway  http://www.berkshirehathaway.com     367700   \n2       3               Apple              http://www.apple.com     116000   \n3       4         Exxon Mobil         http://www.exxonmobil.com      72700   \n4       5            McKesson           http://www.mckesson.com      68000   \n..    ...                 ...                               ...        ...   \n495   496       Michaels Cos.           http://www.michaels.com      31000   \n496   497       Toll Brothers       http://www.tollbrothers.com       4200   \n497   498               Yahoo              http://www.yahoo.com       8500   \n498   499       Vistra Energy       http://www.vistraenergy.com       4431   \n499   500      ABM Industries                http://www.abm.com     110000   \n\n                         Sector                                  Industry  \\\n0                     Retailing                     General Merchandisers   \n1                    Financials  Insurance: Property and Casualty (Stock)   \n2                    Technology               Computers, Office Equipment   \n3                        Energy                        Petroleum Refining   \n4                   Wholesalers                  Wholesalers: Health Care   \n..                          ...                                       ...   \n495                   Retailing                Specialty Retailers: Other   \n496  Engineering & Construction                              Homebuilders   \n497                  Technology           Internet Services and Retailing   \n498                      Energy                                    Energy   \n499           Business Services          Diversified Outsourcing Services   \n\n            Hqlocation                  Hqaddr         Hqcity Hqstate  ...  \\\n0      Bentonville, AR     702 S.W. Eighth St.    Bentonville      AR  ...   \n1            Omaha, NE         3555 Farnam St.          Omaha      NE  ...   \n2        Cupertino, CA         1 Infinite Loop      Cupertino      CA  ...   \n3           Irving, TX  5959 Las Colinas Blvd.         Irving      TX  ...   \n4    San Francisco, CA              1 Post St.  San Francisco      CA  ...   \n..                 ...                     ...            ...     ...  ...   \n495         Irving, TX    8000 Bent Branch Dr.         Irving      TX  ...   \n496        Horsham, PA       250 Gibraltar Rd.        Horsham      PA  ...   \n497      Sunnyvale, CA          701 First Ave.      Sunnyvale      CA  ...   \n498         Dallas, TX          1601 Bryan St.         Dallas      TX  ...   \n499       New York, NY         1 Liberty Plaza       New York      NY  ...   \n\n                                         Ceo-title  \\\n0    President, Chief Executive Officer & Director   \n1               Chairman & Chief Executive Officer   \n2               Chief Executive Officer & Director   \n3               Chairman & Chief Executive Officer   \n4    Chairman, President & Chief Executive Officer   \n..                                             ...   \n495             Chairman & Chief Executive Officer   \n496             Chief Executive Officer & Director   \n497  President, Chief Executive Officer & Director   \n498  President, Chief Executive Officer & Director   \n499  President, Chief Executive Officer & Director   \n\n                                        Address Ticker  \\\n0    702 S.W. Eighth St., Bentonville, AR 72716    WMT   \n1              3555 Farnam St., Omaha, NE 68131   BRKA   \n2          1 Infinite Loop, Cupertino, CA 95014   AAPL   \n3      5959 Las Colinas Blvd., Irving, TX 75039    XOM   \n4           1 Post St., San Francisco, CA 94104    MCK   \n..                                          ...    ...   \n495      8000 Bent Branch Dr., Irving, TX 75063    MIK   \n496        250 Gibraltar Rd., Horsham, PA 19044    TOL   \n497         701 First Ave., Sunnyvale, CA 94089   YHOO   \n498            1601 Bryan St., Dallas, TX 75201    VST   \n499         1 Liberty Plaza, New York, NY 10006    ABM   \n\n                         Fullname Revenues Revchange  Profits  Prftchange  \\\n0           Wal-Mart Stores, Inc.   485873       0.8  13643.0        -7.2   \n1         Berkshire Hathaway Inc.   223604       6.1  24074.0           0   \n2                     Apple, Inc.   215639      -7.7  45687.0       -14.4   \n3         Exxon Mobil Corporation   205004     -16.7   7840.0       -51.5   \n4            McKesson Corporation   192487       6.2   2258.0          53   \n..                            ...      ...       ...      ...         ...   \n495  The Michaels Companies, Inc.     5197       5.8    378.2         4.2   \n496           Toll Brothers, Inc.     5170      23.9    382.1         5.2   \n497                   Yahoo! Inc.     5169       4.0   -214.3         5.2   \n498           Vistra Energy Corp.     5164       4.0   -214.3         5.2   \n499   ABM Industries Incorporated     5145      -2.8     57.2         -25   \n\n     Assets  Totshequity  \n0    198825      77798.0  \n1    620854     283001.0  \n2    321686     128249.0  \n3    330314     167325.0  \n4     56563       8924.0  \n..      ...          ...  \n495    2148      -1698.0  \n496    9737       4229.0  \n497   48083      31049.0  \n498   15167       6597.0  \n499    2281        974.0  \n\n[500 rows x 23 columns]",
      "text/html": "<div>\n<style scoped>\n    .dataframe tbody tr th:only-of-type {\n        vertical-align: middle;\n    }\n\n    .dataframe tbody tr th {\n        vertical-align: top;\n    }\n\n    .dataframe thead th {\n        text-align: right;\n    }\n</style>\n<table border=\"1\" class=\"dataframe\">\n  <thead>\n    <tr style=\"text-align: right;\">\n      <th></th>\n      <th>Rank</th>\n      <th>Title</th>\n      <th>Website</th>\n      <th>Employees</th>\n      <th>Sector</th>\n      <th>Industry</th>\n      <th>Hqlocation</th>\n      <th>Hqaddr</th>\n      <th>Hqcity</th>\n      <th>Hqstate</th>\n      <th>...</th>\n      <th>Ceo-title</th>\n      <th>Address</th>\n      <th>Ticker</th>\n      <th>Fullname</th>\n      <th>Revenues</th>\n      <th>Revchange</th>\n      <th>Profits</th>\n      <th>Prftchange</th>\n      <th>Assets</th>\n      <th>Totshequity</th>\n    </tr>\n  </thead>\n  <tbody>\n    <tr>\n      <th>0</th>\n      <td>1</td>\n      <td>Walmart</td>\n      <td>http://www.walmart.com</td>\n      <td>2300000</td>\n      <td>Retailing</td>\n      <td>General Merchandisers</td>\n      <td>Bentonville, AR</td>\n      <td>702 S.W. Eighth St.</td>\n      <td>Bentonville</td>\n      <td>AR</td>\n      <td>...</td>\n      <td>President, Chief Executive Officer &amp; Director</td>\n      <td>702 S.W. Eighth St., Bentonville, AR 72716</td>\n      <td>WMT</td>\n      <td>Wal-Mart Stores, Inc.</td>\n      <td>485873</td>\n      <td>0.8</td>\n      <td>13643.0</td>\n      <td>-7.2</td>\n      <td>198825</td>\n      <td>77798.0</td>\n    </tr>\n    <tr>\n      <th>1</th>\n      <td>2</td>\n      <td>Berkshire Hathaway</td>\n      <td>http://www.berkshirehathaway.com</td>\n      <td>367700</td>\n      <td>Financials</td>\n      <td>Insurance: Property and Casualty (Stock)</td>\n      <td>Omaha, NE</td>\n      <td>3555 Farnam St.</td>\n      <td>Omaha</td>\n      <td>NE</td>\n      <td>...</td>\n      <td>Chairman &amp; Chief Executive Officer</td>\n      <td>3555 Farnam St., Omaha, NE 68131</td>\n      <td>BRKA</td>\n      <td>Berkshire Hathaway Inc.</td>\n      <td>223604</td>\n      <td>6.1</td>\n      <td>24074.0</td>\n      <td>0</td>\n      <td>620854</td>\n      <td>283001.0</td>\n    </tr>\n    <tr>\n      <th>2</th>\n      <td>3</td>\n      <td>Apple</td>\n      <td>http://www.apple.com</td>\n      <td>116000</td>\n      <td>Technology</td>\n      <td>Computers, Office Equipment</td>\n      <td>Cupertino, CA</td>\n      <td>1 Infinite Loop</td>\n      <td>Cupertino</td>\n      <td>CA</td>\n      <td>...</td>\n      <td>Chief Executive Officer &amp; Director</td>\n      <td>1 Infinite Loop, Cupertino, CA 95014</td>\n      <td>AAPL</td>\n      <td>Apple, Inc.</td>\n      <td>215639</td>\n      <td>-7.7</td>\n      <td>45687.0</td>\n      <td>-14.4</td>\n      <td>321686</td>\n      <td>128249.0</td>\n    </tr>\n    <tr>\n      <th>3</th>\n      <td>4</td>\n      <td>Exxon Mobil</td>\n      <td>http://www.exxonmobil.com</td>\n      <td>72700</td>\n      <td>Energy</td>\n      <td>Petroleum Refining</td>\n      <td>Irving, TX</td>\n      <td>5959 Las Colinas Blvd.</td>\n      <td>Irving</td>\n      <td>TX</td>\n      <td>...</td>\n      <td>Chairman &amp; Chief Executive Officer</td>\n      <td>5959 Las Colinas Blvd., Irving, TX 75039</td>\n      <td>XOM</td>\n      <td>Exxon Mobil Corporation</td>\n      <td>205004</td>\n      <td>-16.7</td>\n      <td>7840.0</td>\n      <td>-51.5</td>\n      <td>330314</td>\n      <td>167325.0</td>\n    </tr>\n    <tr>\n      <th>4</th>\n      <td>5</td>\n      <td>McKesson</td>\n      <td>http://www.mckesson.com</td>\n      <td>68000</td>\n      <td>Wholesalers</td>\n      <td>Wholesalers: Health Care</td>\n      <td>San Francisco, CA</td>\n      <td>1 Post St.</td>\n      <td>San Francisco</td>\n      <td>CA</td>\n      <td>...</td>\n      <td>Chairman, President &amp; Chief Executive Officer</td>\n      <td>1 Post St., San Francisco, CA 94104</td>\n      <td>MCK</td>\n      <td>McKesson Corporation</td>\n      <td>192487</td>\n      <td>6.2</td>\n      <td>2258.0</td>\n      <td>53</td>\n      <td>56563</td>\n      <td>8924.0</td>\n    </tr>\n    <tr>\n      <th>...</th>\n      <td>...</td>\n      <td>...</td>\n      <td>...</td>\n      <td>...</td>\n      <td>...</td>\n      <td>...</td>\n      <td>...</td>\n      <td>...</td>\n      <td>...</td>\n      <td>...</td>\n      <td>...</td>\n      <td>...</td>\n      <td>...</td>\n      <td>...</td>\n      <td>...</td>\n      <td>...</td>\n      <td>...</td>\n      <td>...</td>\n      <td>...</td>\n      <td>...</td>\n      <td>...</td>\n    </tr>\n    <tr>\n      <th>495</th>\n      <td>496</td>\n      <td>Michaels Cos.</td>\n      <td>http://www.michaels.com</td>\n      <td>31000</td>\n      <td>Retailing</td>\n      <td>Specialty Retailers: Other</td>\n      <td>Irving, TX</td>\n      <td>8000 Bent Branch Dr.</td>\n      <td>Irving</td>\n      <td>TX</td>\n      <td>...</td>\n      <td>Chairman &amp; Chief Executive Officer</td>\n      <td>8000 Bent Branch Dr., Irving, TX 75063</td>\n      <td>MIK</td>\n      <td>The Michaels Companies, Inc.</td>\n      <td>5197</td>\n      <td>5.8</td>\n      <td>378.2</td>\n      <td>4.2</td>\n      <td>2148</td>\n      <td>-1698.0</td>\n    </tr>\n    <tr>\n      <th>496</th>\n      <td>497</td>\n      <td>Toll Brothers</td>\n      <td>http://www.tollbrothers.com</td>\n      <td>4200</td>\n      <td>Engineering &amp; Construction</td>\n      <td>Homebuilders</td>\n      <td>Horsham, PA</td>\n      <td>250 Gibraltar Rd.</td>\n      <td>Horsham</td>\n      <td>PA</td>\n      <td>...</td>\n      <td>Chief Executive Officer &amp; Director</td>\n      <td>250 Gibraltar Rd., Horsham, PA 19044</td>\n      <td>TOL</td>\n      <td>Toll Brothers, Inc.</td>\n      <td>5170</td>\n      <td>23.9</td>\n      <td>382.1</td>\n      <td>5.2</td>\n      <td>9737</td>\n      <td>4229.0</td>\n    </tr>\n    <tr>\n      <th>497</th>\n      <td>498</td>\n      <td>Yahoo</td>\n      <td>http://www.yahoo.com</td>\n      <td>8500</td>\n      <td>Technology</td>\n      <td>Internet Services and Retailing</td>\n      <td>Sunnyvale, CA</td>\n      <td>701 First Ave.</td>\n      <td>Sunnyvale</td>\n      <td>CA</td>\n      <td>...</td>\n      <td>President, Chief Executive Officer &amp; Director</td>\n      <td>701 First Ave., Sunnyvale, CA 94089</td>\n      <td>YHOO</td>\n      <td>Yahoo! Inc.</td>\n      <td>5169</td>\n      <td>4.0</td>\n      <td>-214.3</td>\n      <td>5.2</td>\n      <td>48083</td>\n      <td>31049.0</td>\n    </tr>\n    <tr>\n      <th>498</th>\n      <td>499</td>\n      <td>Vistra Energy</td>\n      <td>http://www.vistraenergy.com</td>\n      <td>4431</td>\n      <td>Energy</td>\n      <td>Energy</td>\n      <td>Dallas, TX</td>\n      <td>1601 Bryan St.</td>\n      <td>Dallas</td>\n      <td>TX</td>\n      <td>...</td>\n      <td>President, Chief Executive Officer &amp; Director</td>\n      <td>1601 Bryan St., Dallas, TX 75201</td>\n      <td>VST</td>\n      <td>Vistra Energy Corp.</td>\n      <td>5164</td>\n      <td>4.0</td>\n      <td>-214.3</td>\n      <td>5.2</td>\n      <td>15167</td>\n      <td>6597.0</td>\n    </tr>\n    <tr>\n      <th>499</th>\n      <td>500</td>\n      <td>ABM Industries</td>\n      <td>http://www.abm.com</td>\n      <td>110000</td>\n      <td>Business Services</td>\n      <td>Diversified Outsourcing Services</td>\n      <td>New York, NY</td>\n      <td>1 Liberty Plaza</td>\n      <td>New York</td>\n      <td>NY</td>\n      <td>...</td>\n      <td>President, Chief Executive Officer &amp; Director</td>\n      <td>1 Liberty Plaza, New York, NY 10006</td>\n      <td>ABM</td>\n      <td>ABM Industries Incorporated</td>\n      <td>5145</td>\n      <td>-2.8</td>\n      <td>57.2</td>\n      <td>-25</td>\n      <td>2281</td>\n      <td>974.0</td>\n    </tr>\n  </tbody>\n</table>\n<p>500 rows × 23 columns</p>\n</div>"
     },
     "execution_count": 31,
     "metadata": {},
     "output_type": "execute_result"
    }
   ],
   "source": [
    "df3"
   ],
   "metadata": {
    "collapsed": false,
    "pycharm": {
     "name": "#%%\n"
    }
   }
  },
  {
   "cell_type": "code",
   "execution_count": 52,
   "outputs": [],
   "source": [
    "df3_ordenado = df3.sort_values('Profits', ascending = False)"
   ],
   "metadata": {
    "collapsed": false,
    "pycharm": {
     "name": "#%%\n"
    }
   }
  },
  {
   "cell_type": "code",
   "execution_count": 55,
   "outputs": [
    {
     "data": {
      "text/plain": "     Rank              Title                         Website  Employees  \\\n114   115     ConocoPhillips   http://www.conocophillips.com      13300   \n174   175   Freeport-McMoRan              http://www.fcx.com      30000   \n342   343  Chesapeake Energy              http://www.chk.com       3300   \n172   173        Halliburton      http://www.halliburton.com      50000   \n195   196        FirstEnergy  http://www.firstenergycorp.com      15707   \n\n     Sector                         Industry         Hqlocation  \\\n114  Energy     Mining, Crude-Oil Production        Houston, TX   \n174  Energy     Mining, Crude-Oil Production        Phoenix, AZ   \n342  Energy     Mining, Crude-Oil Production  Oklahoma City, OK   \n172  Energy  Oil and Gas Equipment, Services        Houston, TX   \n195  Energy      Utilities: Gas and Electric          Akron, OH   \n\n                          Hqaddr         Hqcity Hqstate  ...  \\\n114     600 N. Dairy Ashford Rd.        Houston      TX  ...   \n174          333 N. Central Ave.        Phoenix      AZ  ...   \n342         6100 N. Western Ave.  Oklahoma City      OK  ...   \n172  3000 N. Sam Houston Pkwy E.        Houston      TX  ...   \n195               76 S. Main St.          Akron      OH  ...   \n\n                                         Ceo-title  \\\n114             Chairman & Chief Executive Officer   \n174  President, Chief Executive Officer & Director   \n342  President, Chief Executive Officer & Director   \n172  President, Chief Executive Officer & Director   \n195  President, Chief Executive Officer & Director   \n\n                                            Address Ticker  \\\n114    600 N. Dairy Ashford Rd. , Houston, TX 77079    COP   \n174          333 N. Central Ave., Phoenix, AZ 85004    FCX   \n342   6100 N. Western Ave., Oklahoma City, OK 73118    CHK   \n172  3000 N. Sam Houston Pkwy E., Houston, TX 77032    HAL   \n195                 76 S. Main St., Akron, OH 44308     FE   \n\n                          Fullname Revenues Revchange Profits  Prftchange  \\\n114                 ConocoPhillips    24360     -21.3 -3615.0        10.6   \n174          Freeport-McMoRan Inc.    15789      -0.6 -4154.0         4.4   \n342  Chesapeake Energy Corporation     7872     -38.3 -4401.0         7.1   \n172            Halliburton Company    15887     -32.8 -5763.0        16.7   \n195              FirstEnergy Corp.    14156      -3.1 -6177.0   -1,168.70   \n\n     Assets  Totshequity  \n114   89772      34974.0  \n174   37317       6051.0  \n342   13028      -1460.0  \n172   27000       9409.0  \n195   43148       6241.0  \n\n[5 rows x 23 columns]",
      "text/html": "<div>\n<style scoped>\n    .dataframe tbody tr th:only-of-type {\n        vertical-align: middle;\n    }\n\n    .dataframe tbody tr th {\n        vertical-align: top;\n    }\n\n    .dataframe thead th {\n        text-align: right;\n    }\n</style>\n<table border=\"1\" class=\"dataframe\">\n  <thead>\n    <tr style=\"text-align: right;\">\n      <th></th>\n      <th>Rank</th>\n      <th>Title</th>\n      <th>Website</th>\n      <th>Employees</th>\n      <th>Sector</th>\n      <th>Industry</th>\n      <th>Hqlocation</th>\n      <th>Hqaddr</th>\n      <th>Hqcity</th>\n      <th>Hqstate</th>\n      <th>...</th>\n      <th>Ceo-title</th>\n      <th>Address</th>\n      <th>Ticker</th>\n      <th>Fullname</th>\n      <th>Revenues</th>\n      <th>Revchange</th>\n      <th>Profits</th>\n      <th>Prftchange</th>\n      <th>Assets</th>\n      <th>Totshequity</th>\n    </tr>\n  </thead>\n  <tbody>\n    <tr>\n      <th>114</th>\n      <td>115</td>\n      <td>ConocoPhillips</td>\n      <td>http://www.conocophillips.com</td>\n      <td>13300</td>\n      <td>Energy</td>\n      <td>Mining, Crude-Oil Production</td>\n      <td>Houston, TX</td>\n      <td>600 N. Dairy Ashford Rd.</td>\n      <td>Houston</td>\n      <td>TX</td>\n      <td>...</td>\n      <td>Chairman &amp; Chief Executive Officer</td>\n      <td>600 N. Dairy Ashford Rd. , Houston, TX 77079</td>\n      <td>COP</td>\n      <td>ConocoPhillips</td>\n      <td>24360</td>\n      <td>-21.3</td>\n      <td>-3615.0</td>\n      <td>10.6</td>\n      <td>89772</td>\n      <td>34974.0</td>\n    </tr>\n    <tr>\n      <th>174</th>\n      <td>175</td>\n      <td>Freeport-McMoRan</td>\n      <td>http://www.fcx.com</td>\n      <td>30000</td>\n      <td>Energy</td>\n      <td>Mining, Crude-Oil Production</td>\n      <td>Phoenix, AZ</td>\n      <td>333 N. Central Ave.</td>\n      <td>Phoenix</td>\n      <td>AZ</td>\n      <td>...</td>\n      <td>President, Chief Executive Officer &amp; Director</td>\n      <td>333 N. Central Ave., Phoenix, AZ 85004</td>\n      <td>FCX</td>\n      <td>Freeport-McMoRan Inc.</td>\n      <td>15789</td>\n      <td>-0.6</td>\n      <td>-4154.0</td>\n      <td>4.4</td>\n      <td>37317</td>\n      <td>6051.0</td>\n    </tr>\n    <tr>\n      <th>342</th>\n      <td>343</td>\n      <td>Chesapeake Energy</td>\n      <td>http://www.chk.com</td>\n      <td>3300</td>\n      <td>Energy</td>\n      <td>Mining, Crude-Oil Production</td>\n      <td>Oklahoma City, OK</td>\n      <td>6100 N. Western Ave.</td>\n      <td>Oklahoma City</td>\n      <td>OK</td>\n      <td>...</td>\n      <td>President, Chief Executive Officer &amp; Director</td>\n      <td>6100 N. Western Ave., Oklahoma City, OK 73118</td>\n      <td>CHK</td>\n      <td>Chesapeake Energy Corporation</td>\n      <td>7872</td>\n      <td>-38.3</td>\n      <td>-4401.0</td>\n      <td>7.1</td>\n      <td>13028</td>\n      <td>-1460.0</td>\n    </tr>\n    <tr>\n      <th>172</th>\n      <td>173</td>\n      <td>Halliburton</td>\n      <td>http://www.halliburton.com</td>\n      <td>50000</td>\n      <td>Energy</td>\n      <td>Oil and Gas Equipment, Services</td>\n      <td>Houston, TX</td>\n      <td>3000 N. Sam Houston Pkwy E.</td>\n      <td>Houston</td>\n      <td>TX</td>\n      <td>...</td>\n      <td>President, Chief Executive Officer &amp; Director</td>\n      <td>3000 N. Sam Houston Pkwy E., Houston, TX 77032</td>\n      <td>HAL</td>\n      <td>Halliburton Company</td>\n      <td>15887</td>\n      <td>-32.8</td>\n      <td>-5763.0</td>\n      <td>16.7</td>\n      <td>27000</td>\n      <td>9409.0</td>\n    </tr>\n    <tr>\n      <th>195</th>\n      <td>196</td>\n      <td>FirstEnergy</td>\n      <td>http://www.firstenergycorp.com</td>\n      <td>15707</td>\n      <td>Energy</td>\n      <td>Utilities: Gas and Electric</td>\n      <td>Akron, OH</td>\n      <td>76 S. Main St.</td>\n      <td>Akron</td>\n      <td>OH</td>\n      <td>...</td>\n      <td>President, Chief Executive Officer &amp; Director</td>\n      <td>76 S. Main St., Akron, OH 44308</td>\n      <td>FE</td>\n      <td>FirstEnergy Corp.</td>\n      <td>14156</td>\n      <td>-3.1</td>\n      <td>-6177.0</td>\n      <td>-1,168.70</td>\n      <td>43148</td>\n      <td>6241.0</td>\n    </tr>\n  </tbody>\n</table>\n<p>5 rows × 23 columns</p>\n</div>"
     },
     "execution_count": 55,
     "metadata": {},
     "output_type": "execute_result"
    }
   ],
   "source": [
    "df3_ordenado.tail()"
   ],
   "metadata": {
    "collapsed": false,
    "pycharm": {
     "name": "#%%\n"
    }
   }
  },
  {
   "cell_type": "code",
   "execution_count": 60,
   "outputs": [
    {
     "data": {
      "text/plain": "0      Retailing\n1     Financials\n2     Technology\n3         Energy\n4    Wholesalers\nName: Sector, dtype: object"
     },
     "execution_count": 60,
     "metadata": {},
     "output_type": "execute_result"
    }
   ],
   "source": [
    "df3_rank = df3.sort_values('Rank')\n",
    "df3_rank['Sector'].head()"
   ],
   "metadata": {
    "collapsed": false,
    "pycharm": {
     "name": "#%%\n"
    }
   }
  },
  {
   "cell_type": "code",
   "execution_count": null,
   "outputs": [],
   "source": [],
   "metadata": {
    "collapsed": false,
    "pycharm": {
     "name": "#%%\n"
    }
   }
  },
  {
   "cell_type": "code",
   "execution_count": 56,
   "outputs": [
    {
     "data": {
      "text/plain": "Financials                       84\nEnergy                           57\nRetailing                        47\nTechnology                       43\nHealth Care                      38\nWholesalers                      29\nFood, Beverages & Tobacco        24\nBusiness Services                20\nMaterials                        19\nIndustrials                      19\nTransportation                   17\nChemicals                        14\nEngineering & Construction       13\nHousehold Products               12\nAerospace & Defense              12\nMedia                            11\nHotels, Restaurants & Leisure    10\nTelecommunications               10\nMotor Vehicles & Parts            9\nFood & Drug Stores                7\nApparel                           5\nName: Sector, dtype: int64"
     },
     "execution_count": 56,
     "metadata": {},
     "output_type": "execute_result"
    }
   ],
   "source": [
    "df3['Sector'].value_counts()"
   ],
   "metadata": {
    "collapsed": false,
    "pycharm": {
     "name": "#%%\n"
    }
   }
  },
  {
   "cell_type": "code",
   "execution_count": 32,
   "outputs": [
    {
     "data": {
      "text/plain": "(500, 23)"
     },
     "execution_count": 32,
     "metadata": {},
     "output_type": "execute_result"
    }
   ],
   "source": [
    "df3.shape"
   ],
   "metadata": {
    "collapsed": false,
    "pycharm": {
     "name": "#%%\n"
    }
   }
  },
  {
   "cell_type": "code",
   "execution_count": 33,
   "outputs": [
    {
     "name": "stdout",
     "output_type": "stream",
     "text": [
      "<class 'pandas.core.frame.DataFrame'>\n",
      "RangeIndex: 500 entries, 0 to 499\n",
      "Data columns (total 23 columns):\n",
      " #   Column       Non-Null Count  Dtype  \n",
      "---  ------       --------------  -----  \n",
      " 0   Rank         500 non-null    int64  \n",
      " 1   Title        500 non-null    object \n",
      " 2   Website      500 non-null    object \n",
      " 3   Employees    500 non-null    int64  \n",
      " 4   Sector       500 non-null    object \n",
      " 5   Industry     500 non-null    object \n",
      " 6   Hqlocation   500 non-null    object \n",
      " 7   Hqaddr       500 non-null    object \n",
      " 8   Hqcity       500 non-null    object \n",
      " 9   Hqstate      500 non-null    object \n",
      " 10  Hqzip        500 non-null    int64  \n",
      " 11  Hqtel        500 non-null    object \n",
      " 12  Ceo          500 non-null    object \n",
      " 13  Ceo-title    500 non-null    object \n",
      " 14  Address      500 non-null    object \n",
      " 15  Ticker       500 non-null    object \n",
      " 16  Fullname     500 non-null    object \n",
      " 17  Revenues     500 non-null    int64  \n",
      " 18  Revchange    500 non-null    float64\n",
      " 19  Profits      500 non-null    float64\n",
      " 20  Prftchange   500 non-null    object \n",
      " 21  Assets       500 non-null    int64  \n",
      " 22  Totshequity  500 non-null    float64\n",
      "dtypes: float64(3), int64(5), object(15)\n",
      "memory usage: 90.0+ KB\n"
     ]
    }
   ],
   "source": [
    "df3.info()"
   ],
   "metadata": {
    "collapsed": false,
    "pycharm": {
     "name": "#%%\n"
    }
   }
  },
  {
   "cell_type": "code",
   "execution_count": 42,
   "outputs": [],
   "source": [
    "locacion = df3.groupby('Hqlocation').count()"
   ],
   "metadata": {
    "collapsed": false,
    "pycharm": {
     "name": "#%%\n"
    }
   }
  },
  {
   "cell_type": "code",
   "execution_count": 47,
   "outputs": [
    {
     "data": {
      "text/plain": "                         Rank  Title  Website  Employees  Sector  Industry  \\\nHqlocation                                                                   \nNew York, NY               45     45       45         45      45        45   \nHouston, TX                18     18       18         18      18        18   \nAtlanta, GA                12     12       12         12      12        12   \nChicago, IL                10     10       10         10      10        10   \nDallas, TX                 10     10       10         10      10        10   \n...                       ...    ...      ...        ...     ...       ...   \nHoffman Estates, IL         1      1        1          1       1         1   \nHorsham, PA                 1      1        1          1       1         1   \nInver Grove Heights, MN     1      1        1          1       1         1   \nIrvine, CA                  1      1        1          1       1         1   \nWoonsocket, RI              1      1        1          1       1         1   \n\n                         Hqaddr  Hqcity  Hqstate  Hqzip  ...  Ceo-title  \\\nHqlocation                                               ...              \nNew York, NY                 45      45       45     45  ...         45   \nHouston, TX                  18      18       18     18  ...         18   \nAtlanta, GA                  12      12       12     12  ...         12   \nChicago, IL                  10      10       10     10  ...         10   \nDallas, TX                   10      10       10     10  ...         10   \n...                         ...     ...      ...    ...  ...        ...   \nHoffman Estates, IL           1       1        1      1  ...          1   \nHorsham, PA                   1       1        1      1  ...          1   \nInver Grove Heights, MN       1       1        1      1  ...          1   \nIrvine, CA                    1       1        1      1  ...          1   \nWoonsocket, RI                1       1        1      1  ...          1   \n\n                         Address  Ticker  Fullname  Revenues  Revchange  \\\nHqlocation                                                                \nNew York, NY                  45      45        45        45         45   \nHouston, TX                   18      18        18        18         18   \nAtlanta, GA                   12      12        12        12         12   \nChicago, IL                   10      10        10        10         10   \nDallas, TX                    10      10        10        10         10   \n...                          ...     ...       ...       ...        ...   \nHoffman Estates, IL            1       1         1         1          1   \nHorsham, PA                    1       1         1         1          1   \nInver Grove Heights, MN        1       1         1         1          1   \nIrvine, CA                     1       1         1         1          1   \nWoonsocket, RI                 1       1         1         1          1   \n\n                         Profits  Prftchange  Assets  Totshequity  \nHqlocation                                                         \nNew York, NY                  45          45      45           45  \nHouston, TX                   18          18      18           18  \nAtlanta, GA                   12          12      12           12  \nChicago, IL                   10          10      10           10  \nDallas, TX                    10          10      10           10  \n...                          ...         ...     ...          ...  \nHoffman Estates, IL            1           1       1            1  \nHorsham, PA                    1           1       1            1  \nInver Grove Heights, MN        1           1       1            1  \nIrvine, CA                     1           1       1            1  \nWoonsocket, RI                 1           1       1            1  \n\n[246 rows x 22 columns]",
      "text/html": "<div>\n<style scoped>\n    .dataframe tbody tr th:only-of-type {\n        vertical-align: middle;\n    }\n\n    .dataframe tbody tr th {\n        vertical-align: top;\n    }\n\n    .dataframe thead th {\n        text-align: right;\n    }\n</style>\n<table border=\"1\" class=\"dataframe\">\n  <thead>\n    <tr style=\"text-align: right;\">\n      <th></th>\n      <th>Rank</th>\n      <th>Title</th>\n      <th>Website</th>\n      <th>Employees</th>\n      <th>Sector</th>\n      <th>Industry</th>\n      <th>Hqaddr</th>\n      <th>Hqcity</th>\n      <th>Hqstate</th>\n      <th>Hqzip</th>\n      <th>...</th>\n      <th>Ceo-title</th>\n      <th>Address</th>\n      <th>Ticker</th>\n      <th>Fullname</th>\n      <th>Revenues</th>\n      <th>Revchange</th>\n      <th>Profits</th>\n      <th>Prftchange</th>\n      <th>Assets</th>\n      <th>Totshequity</th>\n    </tr>\n    <tr>\n      <th>Hqlocation</th>\n      <th></th>\n      <th></th>\n      <th></th>\n      <th></th>\n      <th></th>\n      <th></th>\n      <th></th>\n      <th></th>\n      <th></th>\n      <th></th>\n      <th></th>\n      <th></th>\n      <th></th>\n      <th></th>\n      <th></th>\n      <th></th>\n      <th></th>\n      <th></th>\n      <th></th>\n      <th></th>\n      <th></th>\n    </tr>\n  </thead>\n  <tbody>\n    <tr>\n      <th>New York, NY</th>\n      <td>45</td>\n      <td>45</td>\n      <td>45</td>\n      <td>45</td>\n      <td>45</td>\n      <td>45</td>\n      <td>45</td>\n      <td>45</td>\n      <td>45</td>\n      <td>45</td>\n      <td>...</td>\n      <td>45</td>\n      <td>45</td>\n      <td>45</td>\n      <td>45</td>\n      <td>45</td>\n      <td>45</td>\n      <td>45</td>\n      <td>45</td>\n      <td>45</td>\n      <td>45</td>\n    </tr>\n    <tr>\n      <th>Houston, TX</th>\n      <td>18</td>\n      <td>18</td>\n      <td>18</td>\n      <td>18</td>\n      <td>18</td>\n      <td>18</td>\n      <td>18</td>\n      <td>18</td>\n      <td>18</td>\n      <td>18</td>\n      <td>...</td>\n      <td>18</td>\n      <td>18</td>\n      <td>18</td>\n      <td>18</td>\n      <td>18</td>\n      <td>18</td>\n      <td>18</td>\n      <td>18</td>\n      <td>18</td>\n      <td>18</td>\n    </tr>\n    <tr>\n      <th>Atlanta, GA</th>\n      <td>12</td>\n      <td>12</td>\n      <td>12</td>\n      <td>12</td>\n      <td>12</td>\n      <td>12</td>\n      <td>12</td>\n      <td>12</td>\n      <td>12</td>\n      <td>12</td>\n      <td>...</td>\n      <td>12</td>\n      <td>12</td>\n      <td>12</td>\n      <td>12</td>\n      <td>12</td>\n      <td>12</td>\n      <td>12</td>\n      <td>12</td>\n      <td>12</td>\n      <td>12</td>\n    </tr>\n    <tr>\n      <th>Chicago, IL</th>\n      <td>10</td>\n      <td>10</td>\n      <td>10</td>\n      <td>10</td>\n      <td>10</td>\n      <td>10</td>\n      <td>10</td>\n      <td>10</td>\n      <td>10</td>\n      <td>10</td>\n      <td>...</td>\n      <td>10</td>\n      <td>10</td>\n      <td>10</td>\n      <td>10</td>\n      <td>10</td>\n      <td>10</td>\n      <td>10</td>\n      <td>10</td>\n      <td>10</td>\n      <td>10</td>\n    </tr>\n    <tr>\n      <th>Dallas, TX</th>\n      <td>10</td>\n      <td>10</td>\n      <td>10</td>\n      <td>10</td>\n      <td>10</td>\n      <td>10</td>\n      <td>10</td>\n      <td>10</td>\n      <td>10</td>\n      <td>10</td>\n      <td>...</td>\n      <td>10</td>\n      <td>10</td>\n      <td>10</td>\n      <td>10</td>\n      <td>10</td>\n      <td>10</td>\n      <td>10</td>\n      <td>10</td>\n      <td>10</td>\n      <td>10</td>\n    </tr>\n    <tr>\n      <th>...</th>\n      <td>...</td>\n      <td>...</td>\n      <td>...</td>\n      <td>...</td>\n      <td>...</td>\n      <td>...</td>\n      <td>...</td>\n      <td>...</td>\n      <td>...</td>\n      <td>...</td>\n      <td>...</td>\n      <td>...</td>\n      <td>...</td>\n      <td>...</td>\n      <td>...</td>\n      <td>...</td>\n      <td>...</td>\n      <td>...</td>\n      <td>...</td>\n      <td>...</td>\n      <td>...</td>\n    </tr>\n    <tr>\n      <th>Hoffman Estates, IL</th>\n      <td>1</td>\n      <td>1</td>\n      <td>1</td>\n      <td>1</td>\n      <td>1</td>\n      <td>1</td>\n      <td>1</td>\n      <td>1</td>\n      <td>1</td>\n      <td>1</td>\n      <td>...</td>\n      <td>1</td>\n      <td>1</td>\n      <td>1</td>\n      <td>1</td>\n      <td>1</td>\n      <td>1</td>\n      <td>1</td>\n      <td>1</td>\n      <td>1</td>\n      <td>1</td>\n    </tr>\n    <tr>\n      <th>Horsham, PA</th>\n      <td>1</td>\n      <td>1</td>\n      <td>1</td>\n      <td>1</td>\n      <td>1</td>\n      <td>1</td>\n      <td>1</td>\n      <td>1</td>\n      <td>1</td>\n      <td>1</td>\n      <td>...</td>\n      <td>1</td>\n      <td>1</td>\n      <td>1</td>\n      <td>1</td>\n      <td>1</td>\n      <td>1</td>\n      <td>1</td>\n      <td>1</td>\n      <td>1</td>\n      <td>1</td>\n    </tr>\n    <tr>\n      <th>Inver Grove Heights, MN</th>\n      <td>1</td>\n      <td>1</td>\n      <td>1</td>\n      <td>1</td>\n      <td>1</td>\n      <td>1</td>\n      <td>1</td>\n      <td>1</td>\n      <td>1</td>\n      <td>1</td>\n      <td>...</td>\n      <td>1</td>\n      <td>1</td>\n      <td>1</td>\n      <td>1</td>\n      <td>1</td>\n      <td>1</td>\n      <td>1</td>\n      <td>1</td>\n      <td>1</td>\n      <td>1</td>\n    </tr>\n    <tr>\n      <th>Irvine, CA</th>\n      <td>1</td>\n      <td>1</td>\n      <td>1</td>\n      <td>1</td>\n      <td>1</td>\n      <td>1</td>\n      <td>1</td>\n      <td>1</td>\n      <td>1</td>\n      <td>1</td>\n      <td>...</td>\n      <td>1</td>\n      <td>1</td>\n      <td>1</td>\n      <td>1</td>\n      <td>1</td>\n      <td>1</td>\n      <td>1</td>\n      <td>1</td>\n      <td>1</td>\n      <td>1</td>\n    </tr>\n    <tr>\n      <th>Woonsocket, RI</th>\n      <td>1</td>\n      <td>1</td>\n      <td>1</td>\n      <td>1</td>\n      <td>1</td>\n      <td>1</td>\n      <td>1</td>\n      <td>1</td>\n      <td>1</td>\n      <td>1</td>\n      <td>...</td>\n      <td>1</td>\n      <td>1</td>\n      <td>1</td>\n      <td>1</td>\n      <td>1</td>\n      <td>1</td>\n      <td>1</td>\n      <td>1</td>\n      <td>1</td>\n      <td>1</td>\n    </tr>\n  </tbody>\n</table>\n<p>246 rows × 22 columns</p>\n</div>"
     },
     "execution_count": 47,
     "metadata": {},
     "output_type": "execute_result"
    }
   ],
   "source": [
    "locacion.sort_values(by = 'Title', ascending = False)"
   ],
   "metadata": {
    "collapsed": false,
    "pycharm": {
     "name": "#%%\n"
    }
   }
  },
  {
   "cell_type": "code",
   "execution_count": null,
   "outputs": [],
   "source": [],
   "metadata": {
    "collapsed": false,
    "pycharm": {
     "name": "#%%\n"
    }
   }
  },
  {
   "cell_type": "code",
   "execution_count": 48,
   "outputs": [
    {
     "data": {
      "text/plain": "             Rank     Employees         Hqzip       Revenues  Revchange  \\\ncount  500.000000  5.000000e+02    500.000000     500.000000  500.00000   \nmean   250.492000  5.635013e+04  46791.714000   24111.748000    3.75800   \nstd    144.477366  1.234520e+05  30160.384765   38337.353337   19.96748   \nmin      1.000000  8.300000e+01   1104.000000    5145.000000  -57.50000   \n25%    125.750000  1.190000e+04  19099.000000    7245.000000   -3.82500   \n50%    250.500000  2.500000e+04  46244.500000   11384.000000    1.90000   \n75%    375.250000  5.682525e+04  75045.000000   22605.250000    7.32500   \nmax    500.000000  2.300000e+06  98188.000000  485873.000000  197.30000   \n\n            Profits        Assets  Totshequity  \ncount    500.000000  5.000000e+02     500.0000  \nmean    1779.479800  8.038934e+04   13640.1470  \nstd     3937.558721  2.704257e+05   30523.1538  \nmin    -6177.000000  4.370000e+02  -12688.0000  \n25%      235.725000  8.436500e+03    1997.5000  \n50%      683.600000  1.932450e+04    4981.0000  \n75%     1770.775000  4.812600e+04   12467.7500  \nmax    45687.000000  3.287968e+06  283001.0000  ",
      "text/html": "<div>\n<style scoped>\n    .dataframe tbody tr th:only-of-type {\n        vertical-align: middle;\n    }\n\n    .dataframe tbody tr th {\n        vertical-align: top;\n    }\n\n    .dataframe thead th {\n        text-align: right;\n    }\n</style>\n<table border=\"1\" class=\"dataframe\">\n  <thead>\n    <tr style=\"text-align: right;\">\n      <th></th>\n      <th>Rank</th>\n      <th>Employees</th>\n      <th>Hqzip</th>\n      <th>Revenues</th>\n      <th>Revchange</th>\n      <th>Profits</th>\n      <th>Assets</th>\n      <th>Totshequity</th>\n    </tr>\n  </thead>\n  <tbody>\n    <tr>\n      <th>count</th>\n      <td>500.000000</td>\n      <td>5.000000e+02</td>\n      <td>500.000000</td>\n      <td>500.000000</td>\n      <td>500.00000</td>\n      <td>500.000000</td>\n      <td>5.000000e+02</td>\n      <td>500.0000</td>\n    </tr>\n    <tr>\n      <th>mean</th>\n      <td>250.492000</td>\n      <td>5.635013e+04</td>\n      <td>46791.714000</td>\n      <td>24111.748000</td>\n      <td>3.75800</td>\n      <td>1779.479800</td>\n      <td>8.038934e+04</td>\n      <td>13640.1470</td>\n    </tr>\n    <tr>\n      <th>std</th>\n      <td>144.477366</td>\n      <td>1.234520e+05</td>\n      <td>30160.384765</td>\n      <td>38337.353337</td>\n      <td>19.96748</td>\n      <td>3937.558721</td>\n      <td>2.704257e+05</td>\n      <td>30523.1538</td>\n    </tr>\n    <tr>\n      <th>min</th>\n      <td>1.000000</td>\n      <td>8.300000e+01</td>\n      <td>1104.000000</td>\n      <td>5145.000000</td>\n      <td>-57.50000</td>\n      <td>-6177.000000</td>\n      <td>4.370000e+02</td>\n      <td>-12688.0000</td>\n    </tr>\n    <tr>\n      <th>25%</th>\n      <td>125.750000</td>\n      <td>1.190000e+04</td>\n      <td>19099.000000</td>\n      <td>7245.000000</td>\n      <td>-3.82500</td>\n      <td>235.725000</td>\n      <td>8.436500e+03</td>\n      <td>1997.5000</td>\n    </tr>\n    <tr>\n      <th>50%</th>\n      <td>250.500000</td>\n      <td>2.500000e+04</td>\n      <td>46244.500000</td>\n      <td>11384.000000</td>\n      <td>1.90000</td>\n      <td>683.600000</td>\n      <td>1.932450e+04</td>\n      <td>4981.0000</td>\n    </tr>\n    <tr>\n      <th>75%</th>\n      <td>375.250000</td>\n      <td>5.682525e+04</td>\n      <td>75045.000000</td>\n      <td>22605.250000</td>\n      <td>7.32500</td>\n      <td>1770.775000</td>\n      <td>4.812600e+04</td>\n      <td>12467.7500</td>\n    </tr>\n    <tr>\n      <th>max</th>\n      <td>500.000000</td>\n      <td>2.300000e+06</td>\n      <td>98188.000000</td>\n      <td>485873.000000</td>\n      <td>197.30000</td>\n      <td>45687.000000</td>\n      <td>3.287968e+06</td>\n      <td>283001.0000</td>\n    </tr>\n  </tbody>\n</table>\n</div>"
     },
     "execution_count": 48,
     "metadata": {},
     "output_type": "execute_result"
    }
   ],
   "source": [
    "df3.describe()"
   ],
   "metadata": {
    "collapsed": false,
    "pycharm": {
     "name": "#%%\n"
    }
   }
  },
  {
   "cell_type": "code",
   "execution_count": 49,
   "outputs": [
    {
     "data": {
      "text/plain": "485873"
     },
     "execution_count": 49,
     "metadata": {},
     "output_type": "execute_result"
    }
   ],
   "source": [
    "df3['Revenues'].max()"
   ],
   "metadata": {
    "collapsed": false,
    "pycharm": {
     "name": "#%%\n"
    }
   }
  },
  {
   "cell_type": "code",
   "execution_count": 49,
   "outputs": [
    {
     "data": {
      "text/plain": "Rank           0\nTitle          0\nWebsite        0\nEmployees      0\nSector         0\nIndustry       0\nHqlocation     0\nHqaddr         0\nHqcity         0\nHqstate        0\nHqzip          0\nHqtel          0\nCeo            0\nCeo-title      0\nAddress        0\nTicker         0\nFullname       0\nRevenues       0\nRevchange      0\nProfits        0\nPrftchange     0\nAssets         0\nTotshequity    0\ndtype: int64"
     },
     "execution_count": 49,
     "metadata": {},
     "output_type": "execute_result"
    }
   ],
   "source": [
    "df3.isnull().sum()"
   ],
   "metadata": {
    "collapsed": false,
    "pycharm": {
     "name": "#%%\n"
    }
   }
  },
  {
   "cell_type": "code",
   "execution_count": 51,
   "outputs": [
    {
     "data": {
      "text/plain": "Index(['Rank', 'Title', 'Website', 'Employees', 'Sector', 'Industry',\n       'Hqlocation', 'Hqaddr', 'Hqcity', 'Hqstate', 'Hqzip', 'Hqtel', 'Ceo',\n       'Ceo-title', 'Address', 'Ticker', 'Fullname', 'Revenues', 'Revchange',\n       'Profits', 'Prftchange', 'Assets', 'Totshequity'],\n      dtype='object')"
     },
     "execution_count": 51,
     "metadata": {},
     "output_type": "execute_result"
    }
   ],
   "source": [
    "df3.columns"
   ],
   "metadata": {
    "collapsed": false,
    "pycharm": {
     "name": "#%%\n"
    }
   }
  },
  {
   "cell_type": "markdown",
   "source": [
    "# Vetas comerciales"
   ],
   "metadata": {
    "collapsed": false,
    "pycharm": {
     "name": "#%% md\n"
    }
   }
  },
  {
   "cell_type": "markdown",
   "source": [
    "## Hamlet"
   ],
   "metadata": {
    "collapsed": false,
    "pycharm": {
     "name": "#%% md\n"
    }
   }
  },
  {
   "cell_type": "code",
   "execution_count": 59,
   "outputs": [],
   "source": [
    "path_file_hamlet= \"data/ventas_comercial/Hamlet.csv\""
   ],
   "metadata": {
    "collapsed": false,
    "pycharm": {
     "name": "#%%\n"
    }
   }
  },
  {
   "cell_type": "code",
   "execution_count": 60,
   "outputs": [],
   "source": [
    "df4 = pd.read_csv(path_file_hamlet)"
   ],
   "metadata": {
    "collapsed": false,
    "pycharm": {
     "name": "#%%\n"
    }
   }
  },
  {
   "cell_type": "code",
   "execution_count": 61,
   "outputs": [
    {
     "data": {
      "text/plain": "      Unnamed: 0  Dataline    Play  PlayerLinenumber ActSceneLine  \\\n0          32432     32433  Hamlet             138.0          NaN   \n1          32433     32434  Hamlet             138.0          NaN   \n2          32434     32435  Hamlet             138.0          NaN   \n3          32435     32436  Hamlet               1.0        1.1.1   \n4          32436     32437  Hamlet               2.0        1.1.2   \n...          ...       ...     ...               ...          ...   \n4239       36671     36672  Hamlet             147.0      5.2.421   \n4240       36672     36673  Hamlet             147.0      5.2.422   \n4241       36673     36674  Hamlet             147.0      5.2.423   \n4242       36674     36675  Hamlet             147.0      5.2.424   \n4243       36675     36676  Hamlet             147.0      5.2.424   \n\n                 Player                                         PlayerLine  \n0             CYMBELINE                                              ACT I  \n1             CYMBELINE   SCENE I. Elsinore. A platform before the castle.  \n2             CYMBELINE       FRANCISCO at his post. Enter to him BERNARDO  \n3              BERNARDO                                       Who's there?  \n4             FRANCISCO        Nay, answer me: stand, and unfold yourself.  \n...                 ...                                                ...  \n4239  PRINCE FORTINBRAS                              Speak loudly for him.  \n4240  PRINCE FORTINBRAS           Take up the bodies: such a sight as this  \n4241  PRINCE FORTINBRAS      Becomes the field, but here shows much amiss.  \n4242  PRINCE FORTINBRAS                        Go, bid the soldiers shoot.  \n4243  PRINCE FORTINBRAS  A dead march. Exeunt, bearing off the dead bod...  \n\n[4244 rows x 7 columns]",
      "text/html": "<div>\n<style scoped>\n    .dataframe tbody tr th:only-of-type {\n        vertical-align: middle;\n    }\n\n    .dataframe tbody tr th {\n        vertical-align: top;\n    }\n\n    .dataframe thead th {\n        text-align: right;\n    }\n</style>\n<table border=\"1\" class=\"dataframe\">\n  <thead>\n    <tr style=\"text-align: right;\">\n      <th></th>\n      <th>Unnamed: 0</th>\n      <th>Dataline</th>\n      <th>Play</th>\n      <th>PlayerLinenumber</th>\n      <th>ActSceneLine</th>\n      <th>Player</th>\n      <th>PlayerLine</th>\n    </tr>\n  </thead>\n  <tbody>\n    <tr>\n      <th>0</th>\n      <td>32432</td>\n      <td>32433</td>\n      <td>Hamlet</td>\n      <td>138.0</td>\n      <td>NaN</td>\n      <td>CYMBELINE</td>\n      <td>ACT I</td>\n    </tr>\n    <tr>\n      <th>1</th>\n      <td>32433</td>\n      <td>32434</td>\n      <td>Hamlet</td>\n      <td>138.0</td>\n      <td>NaN</td>\n      <td>CYMBELINE</td>\n      <td>SCENE I. Elsinore. A platform before the castle.</td>\n    </tr>\n    <tr>\n      <th>2</th>\n      <td>32434</td>\n      <td>32435</td>\n      <td>Hamlet</td>\n      <td>138.0</td>\n      <td>NaN</td>\n      <td>CYMBELINE</td>\n      <td>FRANCISCO at his post. Enter to him BERNARDO</td>\n    </tr>\n    <tr>\n      <th>3</th>\n      <td>32435</td>\n      <td>32436</td>\n      <td>Hamlet</td>\n      <td>1.0</td>\n      <td>1.1.1</td>\n      <td>BERNARDO</td>\n      <td>Who's there?</td>\n    </tr>\n    <tr>\n      <th>4</th>\n      <td>32436</td>\n      <td>32437</td>\n      <td>Hamlet</td>\n      <td>2.0</td>\n      <td>1.1.2</td>\n      <td>FRANCISCO</td>\n      <td>Nay, answer me: stand, and unfold yourself.</td>\n    </tr>\n    <tr>\n      <th>...</th>\n      <td>...</td>\n      <td>...</td>\n      <td>...</td>\n      <td>...</td>\n      <td>...</td>\n      <td>...</td>\n      <td>...</td>\n    </tr>\n    <tr>\n      <th>4239</th>\n      <td>36671</td>\n      <td>36672</td>\n      <td>Hamlet</td>\n      <td>147.0</td>\n      <td>5.2.421</td>\n      <td>PRINCE FORTINBRAS</td>\n      <td>Speak loudly for him.</td>\n    </tr>\n    <tr>\n      <th>4240</th>\n      <td>36672</td>\n      <td>36673</td>\n      <td>Hamlet</td>\n      <td>147.0</td>\n      <td>5.2.422</td>\n      <td>PRINCE FORTINBRAS</td>\n      <td>Take up the bodies: such a sight as this</td>\n    </tr>\n    <tr>\n      <th>4241</th>\n      <td>36673</td>\n      <td>36674</td>\n      <td>Hamlet</td>\n      <td>147.0</td>\n      <td>5.2.423</td>\n      <td>PRINCE FORTINBRAS</td>\n      <td>Becomes the field, but here shows much amiss.</td>\n    </tr>\n    <tr>\n      <th>4242</th>\n      <td>36674</td>\n      <td>36675</td>\n      <td>Hamlet</td>\n      <td>147.0</td>\n      <td>5.2.424</td>\n      <td>PRINCE FORTINBRAS</td>\n      <td>Go, bid the soldiers shoot.</td>\n    </tr>\n    <tr>\n      <th>4243</th>\n      <td>36675</td>\n      <td>36676</td>\n      <td>Hamlet</td>\n      <td>147.0</td>\n      <td>5.2.424</td>\n      <td>PRINCE FORTINBRAS</td>\n      <td>A dead march. Exeunt, bearing off the dead bod...</td>\n    </tr>\n  </tbody>\n</table>\n<p>4244 rows × 7 columns</p>\n</div>"
     },
     "execution_count": 61,
     "metadata": {},
     "output_type": "execute_result"
    }
   ],
   "source": [
    "df4"
   ],
   "metadata": {
    "collapsed": false,
    "pycharm": {
     "name": "#%%\n"
    }
   }
  },
  {
   "cell_type": "code",
   "execution_count": 62,
   "outputs": [
    {
     "data": {
      "text/plain": "(4244, 7)"
     },
     "execution_count": 62,
     "metadata": {},
     "output_type": "execute_result"
    }
   ],
   "source": [
    "df4.shape"
   ],
   "metadata": {
    "collapsed": false,
    "pycharm": {
     "name": "#%%\n"
    }
   }
  },
  {
   "cell_type": "code",
   "execution_count": 63,
   "outputs": [
    {
     "name": "stdout",
     "output_type": "stream",
     "text": [
      "<class 'pandas.core.frame.DataFrame'>\n",
      "RangeIndex: 4244 entries, 0 to 4243\n",
      "Data columns (total 7 columns):\n",
      " #   Column            Non-Null Count  Dtype  \n",
      "---  ------            --------------  -----  \n",
      " 0   Unnamed: 0        4244 non-null   int64  \n",
      " 1   Dataline          4244 non-null   int64  \n",
      " 2   Play              4244 non-null   object \n",
      " 3   PlayerLinenumber  4244 non-null   float64\n",
      " 4   ActSceneLine      4020 non-null   object \n",
      " 5   Player            4244 non-null   object \n",
      " 6   PlayerLine        4244 non-null   object \n",
      "dtypes: float64(1), int64(2), object(4)\n",
      "memory usage: 232.2+ KB\n"
     ]
    }
   ],
   "source": [
    "df4.info()"
   ],
   "metadata": {
    "collapsed": false,
    "pycharm": {
     "name": "#%%\n"
    }
   }
  },
  {
   "cell_type": "code",
   "execution_count": 64,
   "outputs": [
    {
     "data": {
      "text/plain": "       Unnamed: 0    Dataline  PlayerLinenumber\ncount   4244.0000   4244.0000       4244.000000\nmean   34553.5000  34554.5000         46.679312\nstd     1225.2816   1225.2816         43.220929\nmin    32432.0000  32433.0000          1.000000\n25%    33492.7500  33493.7500         15.000000\n50%    34553.5000  34554.5000         31.000000\n75%    35614.2500  35615.2500         64.000000\nmax    36675.0000  36676.0000        165.000000",
      "text/html": "<div>\n<style scoped>\n    .dataframe tbody tr th:only-of-type {\n        vertical-align: middle;\n    }\n\n    .dataframe tbody tr th {\n        vertical-align: top;\n    }\n\n    .dataframe thead th {\n        text-align: right;\n    }\n</style>\n<table border=\"1\" class=\"dataframe\">\n  <thead>\n    <tr style=\"text-align: right;\">\n      <th></th>\n      <th>Unnamed: 0</th>\n      <th>Dataline</th>\n      <th>PlayerLinenumber</th>\n    </tr>\n  </thead>\n  <tbody>\n    <tr>\n      <th>count</th>\n      <td>4244.0000</td>\n      <td>4244.0000</td>\n      <td>4244.000000</td>\n    </tr>\n    <tr>\n      <th>mean</th>\n      <td>34553.5000</td>\n      <td>34554.5000</td>\n      <td>46.679312</td>\n    </tr>\n    <tr>\n      <th>std</th>\n      <td>1225.2816</td>\n      <td>1225.2816</td>\n      <td>43.220929</td>\n    </tr>\n    <tr>\n      <th>min</th>\n      <td>32432.0000</td>\n      <td>32433.0000</td>\n      <td>1.000000</td>\n    </tr>\n    <tr>\n      <th>25%</th>\n      <td>33492.7500</td>\n      <td>33493.7500</td>\n      <td>15.000000</td>\n    </tr>\n    <tr>\n      <th>50%</th>\n      <td>34553.5000</td>\n      <td>34554.5000</td>\n      <td>31.000000</td>\n    </tr>\n    <tr>\n      <th>75%</th>\n      <td>35614.2500</td>\n      <td>35615.2500</td>\n      <td>64.000000</td>\n    </tr>\n    <tr>\n      <th>max</th>\n      <td>36675.0000</td>\n      <td>36676.0000</td>\n      <td>165.000000</td>\n    </tr>\n  </tbody>\n</table>\n</div>"
     },
     "execution_count": 64,
     "metadata": {},
     "output_type": "execute_result"
    }
   ],
   "source": [
    "df4.describe()"
   ],
   "metadata": {
    "collapsed": false,
    "pycharm": {
     "name": "#%%\n"
    }
   }
  },
  {
   "cell_type": "code",
   "execution_count": 65,
   "outputs": [
    {
     "data": {
      "text/plain": "Index(['Unnamed: 0', 'Dataline', 'Play', 'PlayerLinenumber', 'ActSceneLine',\n       'Player', 'PlayerLine'],\n      dtype='object')"
     },
     "execution_count": 65,
     "metadata": {},
     "output_type": "execute_result"
    }
   ],
   "source": [
    "df4.columns"
   ],
   "metadata": {
    "collapsed": false,
    "pycharm": {
     "name": "#%%\n"
    }
   }
  },
  {
   "cell_type": "code",
   "execution_count": 66,
   "outputs": [
    {
     "data": {
      "text/plain": "Unnamed: 0            0\nDataline              0\nPlay                  0\nPlayerLinenumber      0\nActSceneLine        224\nPlayer                0\nPlayerLine            0\ndtype: int64"
     },
     "execution_count": 66,
     "metadata": {},
     "output_type": "execute_result"
    }
   ],
   "source": [
    "df4.isnull().sum()"
   ],
   "metadata": {
    "collapsed": false,
    "pycharm": {
     "name": "#%%\n"
    }
   }
  },
  {
   "cell_type": "code",
   "execution_count": null,
   "outputs": [],
   "source": [],
   "metadata": {
    "collapsed": false,
    "pycharm": {
     "name": "#%%\n"
    }
   }
  }
 ],
 "metadata": {
  "kernelspec": {
   "display_name": "Python 3",
   "language": "python",
   "name": "python3"
  },
  "language_info": {
   "codemirror_mode": {
    "name": "ipython",
    "version": 2
   },
   "file_extension": ".py",
   "mimetype": "text/x-python",
   "name": "python",
   "nbconvert_exporter": "python",
   "pygments_lexer": "ipython2",
   "version": "2.7.6"
  }
 },
 "nbformat": 4,
 "nbformat_minor": 0
}